{
 "cells": [
  {
   "cell_type": "markdown",
   "metadata": {},
   "source": [
    "# Wikipedia user activity analysis\n",
    "\n",
    "In this project we will analyze Wikipedia users activity logs. The analysis is based on Wikimedia Foundation data analysis task that can be found [here](https://github.com/wikimedia-research/Discovery-Hiring-Analyst-2016)."
   ]
  },
  {
   "cell_type": "markdown",
   "metadata": {},
   "source": [
    "## 1. Frame the problem\n",
    "\n",
    "The analysed dataset contains event logging data which is used by Wikimedia to track a variety of performance and usage metrics to help them build various metrics and make data-driven strategic decisions.\n",
    "\n",
    "The analysis has five main aims - as defined by Wikimedia:\n",
    "1. What is our daily overall clickthrough rate (the proportion of search sessions where the user clicked on one of the results displayed)? How does it vary between the groups?\n",
    "2. Which results do people tend to try first? How does it change day-to-day?\n",
    "3. What is our daily overall zero results rate (the proportion of searches that yielded 0 results)? How does it vary between the groups?\n",
    "4. Let session length be approximately the time between the first event and the last event in a session. Choose a variable from the dataset and describe its relationship to session length. Visualize the relationship.\n",
    "5. Summarize your findings in an executive summary.\n",
    "\n",
    "That means that we will build two metrics needed to answer these questions: clickthrough rate and zero results rate."
   ]
  },
  {
   "cell_type": "markdown",
   "metadata": {},
   "source": [
    "## 2. Get the data\n",
    "\n",
    "We will use a dataset published by Wikimedia Foundation that can be found [here](https://github.com/wikimedia-research/Discovery-Hiring-Analyst-2016).\n",
    "\n",
    "The dataset comes from a tracking schema that is used in Wikimedia Foundation for assessing user satisfaction. Desktop users are randomly sampled to be anonymously tracked by this schema to estimate how long users stay on the pages they visit. The dataset contains over a week of event logging data.\n",
    "\n",
    "\n",
    "| Column          | Value   | Description                                                                       |\n",
    "|:----------------|:--------|:----------------------------------------------------------------------------------|\n",
    "| uuid            | string  | Universally unique identifier (UUID) for backend event handling.                  |\n",
    "| timestamp       | integer | The date and time (UTC) of the event, formatted as YYYYMMDDhhmmss.                |\n",
    "| session_id      | string  | A unique ID identifying individual sessions.                                      |\n",
    "| group           | string  | A label (\"a\" or \"b\").                                     |\n",
    "| action          | string  | Identifies in which the event was created. See below.                             |\n",
    "| checkin         | integer | How many seconds the page has been open for.                                      |\n",
    "| page_id         | string  | A unique identifier for correlating page visits and check-ins.                    |\n",
    "| n_results       | integer | Number of hits returned to the user. Only shown for searchResultPage events.      |\n",
    "| result_position | integer | The position of the visited page's link on the search engine results page (SERP). |\n",
    "\n",
    "\n",
    "An event's action field can have following values:\n",
    "* `searchResultPage`: when a new search is performed and the user is shown a SERP.\n",
    "* `visitPage`: when the user clicks a link in the results.\n",
    "* `checkin`: when the user has remained on the page for a pre-specified amount of time.\n",
    "\n",
    "Example session can look like this:\n",
    "\n",
    "|uuid                             |      timestamp|session_id       |group |action           | checkin|page_id          | n_results| result_position|\n",
    "|:--------------------------------|:--------------|:----------------|:-----|:----------------|-------:|:----------------|---------:|---------------:|\n",
    "|4f699f344515554a9371fe4ecb5b9ebc | 20160305195246|001e61b5477f5efc |b     |searchResultPage |      NA|1b341d0ab80eb77e |         7|              NA|\n",
    "|759d1dc9966353c2a36846a61125f286 | 20160305195302|001e61b5477f5efc |b     |visitPage        |      NA|5a6a1f75124cbf03 |        NA|               1|\n",
    "|77efd5a00a5053c4a713fbe5a48dbac4 | 20160305195312|001e61b5477f5efc |b     |checkin          |      10|5a6a1f75124cbf03 |        NA|               1|\n",
    "|42420284ad895ec4bcb1f000b949dd5e | 20160305195322|001e61b5477f5efc |b     |checkin          |      20|5a6a1f75124cbf03 |        NA|               1|\n",
    "|8ffd82c27a355a56882b5860993bd308 | 20160305195332|001e61b5477f5efc |b     |checkin          |      30|5a6a1f75124cbf03 |        NA|               1|\n",
    "|2988d11968b25b29add3a851bec2fe02 | 20160305195342|001e61b5477f5efc |b     |checkin          |      40|5a6a1f75124cbf03 |        NA|               1|\n",
    "\n",
    "This user's search query returned 7 results, they clicked on the first result, and stayed on the page between 40 and 50 seconds."
   ]
  },
  {
   "cell_type": "markdown",
   "metadata": {},
   "source": [
    "Let's load the data."
   ]
  },
  {
   "cell_type": "code",
   "execution_count": 1,
   "metadata": {
    "collapsed": true
   },
   "outputs": [],
   "source": [
    "import pandas as pd"
   ]
  },
  {
   "cell_type": "code",
   "execution_count": 2,
   "metadata": {
    "collapsed": true
   },
   "outputs": [],
   "source": [
    "activity_df = pd.read_csv(\"datasets/events_log.csv\")"
   ]
  },
  {
   "cell_type": "markdown",
   "metadata": {},
   "source": [
    "Now we can check how the data looks like."
   ]
  },
  {
   "cell_type": "code",
   "execution_count": 3,
   "metadata": {
    "collapsed": false
   },
   "outputs": [
    {
     "data": {
      "text/html": [
       "<div>\n",
       "<table border=\"1\" class=\"dataframe\">\n",
       "  <thead>\n",
       "    <tr style=\"text-align: right;\">\n",
       "      <th></th>\n",
       "      <th>uuid</th>\n",
       "      <th>timestamp</th>\n",
       "      <th>session_id</th>\n",
       "      <th>group</th>\n",
       "      <th>action</th>\n",
       "      <th>checkin</th>\n",
       "      <th>page_id</th>\n",
       "      <th>n_results</th>\n",
       "      <th>result_position</th>\n",
       "    </tr>\n",
       "  </thead>\n",
       "  <tbody>\n",
       "    <tr>\n",
       "      <th>0</th>\n",
       "      <td>00000736167c507e8ec225bd9e71f9e5</td>\n",
       "      <td>2.016030e+13</td>\n",
       "      <td>78245c2c3fba013a</td>\n",
       "      <td>b</td>\n",
       "      <td>searchResultPage</td>\n",
       "      <td>NaN</td>\n",
       "      <td>cbeb66d1bc1f1bc2</td>\n",
       "      <td>5.0</td>\n",
       "      <td>NaN</td>\n",
       "    </tr>\n",
       "    <tr>\n",
       "      <th>1</th>\n",
       "      <td>00000c69fe345268935463abbfa5d5b3</td>\n",
       "      <td>2.016031e+13</td>\n",
       "      <td>c559c3be98dca8a4</td>\n",
       "      <td>a</td>\n",
       "      <td>searchResultPage</td>\n",
       "      <td>NaN</td>\n",
       "      <td>eb658e8722aad674</td>\n",
       "      <td>10.0</td>\n",
       "      <td>NaN</td>\n",
       "    </tr>\n",
       "    <tr>\n",
       "      <th>2</th>\n",
       "      <td>00003bfdab715ee59077a3670331b787</td>\n",
       "      <td>2.016030e+13</td>\n",
       "      <td>760bf89817ce4b08</td>\n",
       "      <td>a</td>\n",
       "      <td>checkin</td>\n",
       "      <td>30.0</td>\n",
       "      <td>f99a9fc1f7fdd21e</td>\n",
       "      <td>NaN</td>\n",
       "      <td>NaN</td>\n",
       "    </tr>\n",
       "    <tr>\n",
       "      <th>3</th>\n",
       "      <td>0000465cd7c35ad2bdeafec953e08c1a</td>\n",
       "      <td>2.016030e+13</td>\n",
       "      <td>fb905603d31b2071</td>\n",
       "      <td>a</td>\n",
       "      <td>checkin</td>\n",
       "      <td>60.0</td>\n",
       "      <td>e5626962a6939a75</td>\n",
       "      <td>NaN</td>\n",
       "      <td>10.0</td>\n",
       "    </tr>\n",
       "    <tr>\n",
       "      <th>4</th>\n",
       "      <td>000050cbb4ef5b42b16c4d2cf69e6358</td>\n",
       "      <td>2.016030e+13</td>\n",
       "      <td>c2bf5e5172a892dc</td>\n",
       "      <td>a</td>\n",
       "      <td>checkin</td>\n",
       "      <td>30.0</td>\n",
       "      <td>787dd6a4c371cbf9</td>\n",
       "      <td>NaN</td>\n",
       "      <td>NaN</td>\n",
       "    </tr>\n",
       "  </tbody>\n",
       "</table>\n",
       "</div>"
      ],
      "text/plain": [
       "                               uuid     timestamp        session_id group  \\\n",
       "0  00000736167c507e8ec225bd9e71f9e5  2.016030e+13  78245c2c3fba013a     b   \n",
       "1  00000c69fe345268935463abbfa5d5b3  2.016031e+13  c559c3be98dca8a4     a   \n",
       "2  00003bfdab715ee59077a3670331b787  2.016030e+13  760bf89817ce4b08     a   \n",
       "3  0000465cd7c35ad2bdeafec953e08c1a  2.016030e+13  fb905603d31b2071     a   \n",
       "4  000050cbb4ef5b42b16c4d2cf69e6358  2.016030e+13  c2bf5e5172a892dc     a   \n",
       "\n",
       "             action  checkin           page_id  n_results  result_position  \n",
       "0  searchResultPage      NaN  cbeb66d1bc1f1bc2        5.0              NaN  \n",
       "1  searchResultPage      NaN  eb658e8722aad674       10.0              NaN  \n",
       "2           checkin     30.0  f99a9fc1f7fdd21e        NaN              NaN  \n",
       "3           checkin     60.0  e5626962a6939a75        NaN             10.0  \n",
       "4           checkin     30.0  787dd6a4c371cbf9        NaN              NaN  "
      ]
     },
     "execution_count": 3,
     "metadata": {},
     "output_type": "execute_result"
    }
   ],
   "source": [
    "activity_df.head()"
   ]
  },
  {
   "cell_type": "markdown",
   "metadata": {},
   "source": [
    "We can see that we have several features for each recorded session. Some of them have text values and some are numerical. Let's dig deeper into that dataset structure and properties."
   ]
  },
  {
   "cell_type": "code",
   "execution_count": 4,
   "metadata": {
    "collapsed": false
   },
   "outputs": [
    {
     "name": "stdout",
     "output_type": "stream",
     "text": [
      "<class 'pandas.core.frame.DataFrame'>\n",
      "RangeIndex: 400165 entries, 0 to 400164\n",
      "Data columns (total 9 columns):\n",
      "uuid               400165 non-null object\n",
      "timestamp          400165 non-null float64\n",
      "session_id         400165 non-null object\n",
      "group              400165 non-null object\n",
      "action             400165 non-null object\n",
      "checkin            223824 non-null float64\n",
      "page_id            400165 non-null object\n",
      "n_results          136234 non-null float64\n",
      "result_position    230482 non-null float64\n",
      "dtypes: float64(4), object(5)\n",
      "memory usage: 27.5+ MB\n"
     ]
    }
   ],
   "source": [
    "activity_df.info()"
   ]
  },
  {
   "cell_type": "markdown",
   "metadata": {},
   "source": [
    "We can see that dataset contains 400165 event logging data records in total.\n",
    "\n",
    "In case of `checkin`, `n_results` and `result_position` we deal with missing values. In case of `checkin` feature `NaN` values are result of users's `action` value: some `action` types does not have `checkin` values. We will leave it the way it is. Similar in case of `n_results`: only searchResultPage `action` value sessions have `n_results` values different than `NaN`. Again we will leave it as it is. And similar situation with `result_position`: `NaN` values mean here that the event log was not a result of opening a page from search result.\n",
    "\n",
    "`uuid`, `session_id`, `group`, `action`, `page_id` attributes have text values.\n",
    "\n",
    "`timestamp`, `checkin`, `n_results`, `result_position` are numerical attributes.\n",
    "\n",
    "Actually `timestamp` attribute values should be converted to `datetime` data format for easier use like timestamps comparison. Let's do it then. \n"
   ]
  },
  {
   "cell_type": "code",
   "execution_count": 5,
   "metadata": {
    "collapsed": false
   },
   "outputs": [],
   "source": [
    "date_str = activity_df[\"timestamp\"].astype(int).astype(str)\n",
    "activity_df[\"timestamp\"] = pd.to_datetime(date_str, format=\"%Y%m%d%H%M%S\")"
   ]
  },
  {
   "cell_type": "code",
   "execution_count": 6,
   "metadata": {
    "collapsed": false
   },
   "outputs": [
    {
     "name": "stdout",
     "output_type": "stream",
     "text": [
      "<class 'pandas.core.frame.DataFrame'>\n",
      "RangeIndex: 400165 entries, 0 to 400164\n",
      "Data columns (total 9 columns):\n",
      "uuid               400165 non-null object\n",
      "timestamp          400165 non-null datetime64[ns]\n",
      "session_id         400165 non-null object\n",
      "group              400165 non-null object\n",
      "action             400165 non-null object\n",
      "checkin            223824 non-null float64\n",
      "page_id            400165 non-null object\n",
      "n_results          136234 non-null float64\n",
      "result_position    230482 non-null float64\n",
      "dtypes: datetime64[ns](1), float64(3), object(5)\n",
      "memory usage: 27.5+ MB\n"
     ]
    }
   ],
   "source": [
    "activity_df.info()"
   ]
  },
  {
   "cell_type": "markdown",
   "metadata": {},
   "source": [
    "Now the data looks correct and ready for further analysis.\n",
    "\n",
    "Let's now dig deeper into numerical attributes values."
   ]
  },
  {
   "cell_type": "code",
   "execution_count": 7,
   "metadata": {
    "collapsed": false
   },
   "outputs": [
    {
     "data": {
      "text/html": [
       "<div>\n",
       "<table border=\"1\" class=\"dataframe\">\n",
       "  <thead>\n",
       "    <tr style=\"text-align: right;\">\n",
       "      <th></th>\n",
       "      <th>checkin</th>\n",
       "      <th>n_results</th>\n",
       "      <th>result_position</th>\n",
       "    </tr>\n",
       "  </thead>\n",
       "  <tbody>\n",
       "    <tr>\n",
       "      <th>count</th>\n",
       "      <td>223824.000000</td>\n",
       "      <td>136234.000000</td>\n",
       "      <td>230482.000000</td>\n",
       "    </tr>\n",
       "    <tr>\n",
       "      <th>mean</th>\n",
       "      <td>97.190382</td>\n",
       "      <td>13.210109</td>\n",
       "      <td>2.992798</td>\n",
       "    </tr>\n",
       "    <tr>\n",
       "      <th>std</th>\n",
       "      <td>104.593714</td>\n",
       "      <td>13.271104</td>\n",
       "      <td>38.557292</td>\n",
       "    </tr>\n",
       "    <tr>\n",
       "      <th>min</th>\n",
       "      <td>10.000000</td>\n",
       "      <td>0.000000</td>\n",
       "      <td>1.000000</td>\n",
       "    </tr>\n",
       "    <tr>\n",
       "      <th>25%</th>\n",
       "      <td>20.000000</td>\n",
       "      <td>2.000000</td>\n",
       "      <td>1.000000</td>\n",
       "    </tr>\n",
       "    <tr>\n",
       "      <th>50%</th>\n",
       "      <td>50.000000</td>\n",
       "      <td>20.000000</td>\n",
       "      <td>1.000000</td>\n",
       "    </tr>\n",
       "    <tr>\n",
       "      <th>75%</th>\n",
       "      <td>150.000000</td>\n",
       "      <td>20.000000</td>\n",
       "      <td>2.000000</td>\n",
       "    </tr>\n",
       "    <tr>\n",
       "      <th>max</th>\n",
       "      <td>420.000000</td>\n",
       "      <td>500.000000</td>\n",
       "      <td>4103.000000</td>\n",
       "    </tr>\n",
       "  </tbody>\n",
       "</table>\n",
       "</div>"
      ],
      "text/plain": [
       "             checkin      n_results  result_position\n",
       "count  223824.000000  136234.000000    230482.000000\n",
       "mean       97.190382      13.210109         2.992798\n",
       "std       104.593714      13.271104        38.557292\n",
       "min        10.000000       0.000000         1.000000\n",
       "25%        20.000000       2.000000         1.000000\n",
       "50%        50.000000      20.000000         1.000000\n",
       "75%       150.000000      20.000000         2.000000\n",
       "max       420.000000     500.000000      4103.000000"
      ]
     },
     "execution_count": 7,
     "metadata": {},
     "output_type": "execute_result"
    }
   ],
   "source": [
    "activity_df.describe()"
   ]
  },
  {
   "cell_type": "markdown",
   "metadata": {},
   "source": [
    "`checkin` attribute mean is meaningless taking into account how these values are gathered. But we can check its maximal value - the longest session took 420 seconds. \n",
    "\n",
    "`n_results` attribute mean value of 13.21 means that on average user gets that many results per search. Of course maximal value is very large, reaching 500. Later on we will analyse this attribute distribution to make more out of this data.\n",
    "\n",
    "`result_position` mean value tells us that the link that user was looking for was on average the third in search results (not so good scenario). However the median value tells us it was first (good scenario). Also the max value here seems to be an error. Also here we will later on dig into this attribute distribution to get to know what is going on here."
   ]
  },
  {
   "cell_type": "markdown",
   "metadata": {},
   "source": [
    "Let's see values our categorical attributes can have. \n",
    "\n",
    "Of course `uuid`, `session_id` and `page_id` have unique values. `group` and `action` are categorical."
   ]
  },
  {
   "cell_type": "code",
   "execution_count": 8,
   "metadata": {
    "collapsed": false
   },
   "outputs": [
    {
     "data": {
      "text/plain": [
       "array(['b', 'a'], dtype=object)"
      ]
     },
     "execution_count": 8,
     "metadata": {},
     "output_type": "execute_result"
    }
   ],
   "source": [
    "activity_df[\"group\"].unique()"
   ]
  },
  {
   "cell_type": "code",
   "execution_count": 9,
   "metadata": {
    "collapsed": false
   },
   "outputs": [
    {
     "data": {
      "text/plain": [
       "array(['searchResultPage', 'checkin', 'visitPage'], dtype=object)"
      ]
     },
     "execution_count": 9,
     "metadata": {},
     "output_type": "execute_result"
    }
   ],
   "source": [
    "activity_df[\"action\"].unique()"
   ]
  },
  {
   "cell_type": "markdown",
   "metadata": {},
   "source": [
    "All looks good. We are ready for data exploration."
   ]
  },
  {
   "cell_type": "markdown",
   "metadata": {},
   "source": [
    "## 3. Explore the data\n",
    "\n",
    "We will perform some basic exploratory analysis to see how the data behaves in general sense, what are main tendencies or what are the relations between variables. We will also build our metrics here and try to answer our project questions (posed at the begining of the analysis)."
   ]
  },
  {
   "cell_type": "markdown",
   "metadata": {},
   "source": [
    "Let's look at numerical values distributions."
   ]
  },
  {
   "cell_type": "code",
   "execution_count": 10,
   "metadata": {
    "collapsed": true
   },
   "outputs": [],
   "source": [
    "%matplotlib inline \n",
    "import matplotlib.pyplot as plt"
   ]
  },
  {
   "cell_type": "code",
   "execution_count": 11,
   "metadata": {
    "collapsed": false
   },
   "outputs": [
    {
     "data": {
      "text/plain": [
       "array([[<matplotlib.axes._subplots.AxesSubplot object at 0x1152610f0>,\n",
       "        <matplotlib.axes._subplots.AxesSubplot object at 0x115da6748>],\n",
       "       [<matplotlib.axes._subplots.AxesSubplot object at 0x115df6ef0>,\n",
       "        <matplotlib.axes._subplots.AxesSubplot object at 0x115e75588>]], dtype=object)"
      ]
     },
     "execution_count": 11,
     "metadata": {},
     "output_type": "execute_result"
    },
    {
     "data": {
      "image/png": "[encoded data removed]",
      "text/plain": [
       "<matplotlib.figure.Figure at 0x11bd01438>"
      ]
     },
     "metadata": {},
     "output_type": "display_data"
    }
   ],
   "source": [
    "activity_df.hist(bins=20, figsize=(15, 10))"
   ]
  },
  {
   "cell_type": "markdown",
   "metadata": {},
   "source": [
    "Looking at `checkin` values - which tell us how many seconds the page has been open for - we see that the vast majority of the distribution is concentrated aroung 0-100 secodns values. Only around 8000 of pages reachech 400 seconds sessions. The distribution looks really realitistic.\n",
    "\n",
    "`n_results` (number of search hits returned to the user) distribution looks suspicious. As we mentioned earlier it is low likely that user will get 500 hits after the query or even if it is likely for some query it looks like outlier that we should get rid of before further analysis. Let's see how many large values like that we have. To classify as outlier let's use statistical rule: outlier if value is greater than 75% quantile value plus 1.5 of interquantile range."
   ]
  },
  {
   "cell_type": "code",
   "execution_count": 12,
   "metadata": {
    "collapsed": false
   },
   "outputs": [
    {
     "data": {
      "text/plain": [
       "38.0"
      ]
     },
     "execution_count": 12,
     "metadata": {},
     "output_type": "execute_result"
    }
   ],
   "source": [
    "iqr_n_results = activity_df[\"n_results\"].quantile(0.75) - activity_df[\"n_results\"].quantile(0.25)\n",
    "outlier_threshold_n_results = activity_df[\"n_results\"].quantile(0.75) + iqr_n_results\n",
    "outlier_threshold_n_results"
   ]
  },
  {
   "cell_type": "code",
   "execution_count": 13,
   "metadata": {
    "collapsed": false
   },
   "outputs": [
    {
     "data": {
      "text/plain": [
       "360"
      ]
     },
     "execution_count": 13,
     "metadata": {},
     "output_type": "execute_result"
    }
   ],
   "source": [
    "len(activity_df[activity_df[\"n_results\"] > outlier_threshold_n_results])"
   ]
  },
  {
   "cell_type": "markdown",
   "metadata": {},
   "source": [
    "We see that we have only - considering 400165 data records - 360 values above our outlier threshold which stretch our distribution to the right. The best thing for further analysis will be droping these outlier data records from our dataset. We also need to remember to keep `NaN` values here since they are also informative."
   ]
  },
  {
   "cell_type": "code",
   "execution_count": 14,
   "metadata": {
    "collapsed": false
   },
   "outputs": [
    {
     "data": {
      "text/plain": [
       "399805"
      ]
     },
     "execution_count": 14,
     "metadata": {},
     "output_type": "execute_result"
    }
   ],
   "source": [
    "import numpy as np\n",
    "\n",
    "activity_df = activity_df[(activity_df[\"n_results\"] <= outlier_threshold_n_results) | (activity_df[\"n_results\"].isnull())]\n",
    "len(activity_df)"
   ]
  },
  {
   "cell_type": "markdown",
   "metadata": {},
   "source": [
    "Now it is time to look at `result_position` (the position of the visited page's link on the search engine results page ) distribution. As we saw previously its max value is 4103 and the distribution on the plot looks unrealistic. Either these value is an error or it is really unlikely outlier. Let's repeat the procedure - detecting outliers in the distribution - we did for `n_results`."
   ]
  },
  {
   "cell_type": "code",
   "execution_count": 15,
   "metadata": {
    "collapsed": false
   },
   "outputs": [
    {
     "data": {
      "text/plain": [
       "3.0"
      ]
     },
     "execution_count": 15,
     "metadata": {},
     "output_type": "execute_result"
    }
   ],
   "source": [
    "iqr_result_position = activity_df[\"result_position\"].quantile(0.75) - activity_df[\"result_position\"].quantile(0.25)\n",
    "outlier_threshold_result_position = activity_df[\"result_position\"].quantile(0.75) + iqr_result_position\n",
    "outlier_threshold_result_position"
   ]
  },
  {
   "cell_type": "markdown",
   "metadata": {},
   "source": [
    "Here our IQR based threshold is really small - that would result in large number of values being discarder. Let's then be really non-restrictive here and set threshold value to be 50. We are talking about the position of the visited page's link on the search engine results page. Chances for it to be more then 40 are really small. Let's see how small."
   ]
  },
  {
   "cell_type": "code",
   "execution_count": 16,
   "metadata": {
    "collapsed": false
   },
   "outputs": [
    {
     "data": {
      "text/plain": [
       "940"
      ]
     },
     "execution_count": 16,
     "metadata": {},
     "output_type": "execute_result"
    }
   ],
   "source": [
    "manual_outlier_threshold = 30\n",
    "len(activity_df[activity_df[\"result_position\"] > manual_outlier_threshold])"
   ]
  },
  {
   "cell_type": "markdown",
   "metadata": {},
   "source": [
    "There are only 940 data records with values of `result_position` above 30 among 400165 data records. Probability of getting these values is 0.002 - very low probability. That means that for the sake of data clarity we can drop these outlier results."
   ]
  },
  {
   "cell_type": "code",
   "execution_count": 17,
   "metadata": {
    "collapsed": false
   },
   "outputs": [
    {
     "data": {
      "text/plain": [
       "398865"
      ]
     },
     "execution_count": 17,
     "metadata": {},
     "output_type": "execute_result"
    }
   ],
   "source": [
    "activity_df = activity_df[(activity_df[\"result_position\"] <= manual_outlier_threshold) | (activity_df[\"result_position\"].isnull())]\n",
    "activity_df = activity_df.reset_index(drop=True)\n",
    "len(activity_df)"
   ]
  },
  {
   "cell_type": "markdown",
   "metadata": {},
   "source": [
    "Now all looks good. Let's again look at our numerical attributes distributions."
   ]
  },
  {
   "cell_type": "code",
   "execution_count": 18,
   "metadata": {
    "collapsed": false
   },
   "outputs": [
    {
     "data": {
      "text/plain": [
       "array([[<matplotlib.axes._subplots.AxesSubplot object at 0x11c807860>,\n",
       "        <matplotlib.axes._subplots.AxesSubplot object at 0x1170d0940>],\n",
       "       [<matplotlib.axes._subplots.AxesSubplot object at 0x1170e2a20>,\n",
       "        <matplotlib.axes._subplots.AxesSubplot object at 0x1171bab00>]], dtype=object)"
      ]
     },
     "execution_count": 18,
     "metadata": {},
     "output_type": "execute_result"
    },
    {
     "data": {
      "image/png": "[encoded data removed]",
      "text/plain": [
       "<matplotlib.figure.Figure at 0x11704d198>"
      ]
     },
     "metadata": {},
     "output_type": "display_data"
    }
   ],
   "source": [
    "activity_df.hist(bins=40, figsize=(15, 10))"
   ]
  },
  {
   "cell_type": "markdown",
   "metadata": {},
   "source": [
    "Now we are able to tell something more about our numerical attributes distributions. `n_results` (the number of hits returned to the user.) histogram, previously unreadable, now shows clearly what is going on. We see that vast majority of user searches get 20 results. It seems that data is somehow capped at this point - maybe by search meachanism - to that value which is indicated by this large peak in the middle of the distribution. This could be checked with engineers who created data logging mechanism - why is that happening?\n",
    "\n",
    "Also we can see that there is quite a lot of searches resulting in one result. That could mean that the user looke for something really specific and search was so specific that it returned only one answer. The question to ask here would be whether it was the answer the user was looking for - namely whether she or he clicked it. This could be checked later on.\n",
    "\n",
    "There are also in-between values. On one hand there are search results where user's query returned more than one but less then 20 results. And that is perfectly normal for searches which are less specific. On the other hand there are searches which resulted in more than 20 results. And there are around few hundreds of them meaning that they are somehow strange why they are happening so rarely or at all if it turned out that search results are in fact capped at max 20 results."
   ]
  },
  {
   "cell_type": "markdown",
   "metadata": {},
   "source": [
    "Going back to `result_position` - it now looks clear and seems to be fine. We can see that most of searches ends up with user clicking on the first link and if not the first five results are next to choose. Searches with clicked results of above result number 5 of the result list are marginal in number. That tells us that users find what they are looking for right in the to of their search result page. That is really impressive."
   ]
  },
  {
   "cell_type": "markdown",
   "metadata": {},
   "source": [
    "To finish this part of exploration we can also check our categorical attributes distributions."
   ]
  },
  {
   "cell_type": "code",
   "execution_count": 19,
   "metadata": {
    "collapsed": false
   },
   "outputs": [
    {
     "data": {
      "text/plain": [
       "<matplotlib.axes._subplots.AxesSubplot at 0x1160f8908>"
      ]
     },
     "execution_count": 19,
     "metadata": {},
     "output_type": "execute_result"
    },
    {
     "data": {
      "image/png": "[encoded data removed]",
      "text/plain": [
       "<matplotlib.figure.Figure at 0x1119cf550>"
      ]
     },
     "metadata": {},
     "output_type": "display_data"
    }
   ],
   "source": [
    "activity_df[\"group\"].value_counts().plot(kind='bar')"
   ]
  },
  {
   "cell_type": "markdown",
   "metadata": {},
   "source": [
    "We can see that vast majority of users belong to group A (300,000 vs. 100,000). So probably group B is experiment test group."
   ]
  },
  {
   "cell_type": "code",
   "execution_count": 20,
   "metadata": {
    "collapsed": false
   },
   "outputs": [
    {
     "data": {
      "text/plain": [
       "<matplotlib.axes._subplots.AxesSubplot at 0x11c88c208>"
      ]
     },
     "execution_count": 20,
     "metadata": {},
     "output_type": "execute_result"
    },
    {
     "data": {
      "image/png": "[encoded data removed]",
      "text/plain": [
       "<matplotlib.figure.Figure at 0x11c897710>"
      ]
     },
     "metadata": {},
     "output_type": "display_data"
    }
   ],
   "source": [
    "activity_df[\"action\"].value_counts().plot(kind='bar')"
   ]
  },
  {
   "cell_type": "markdown",
   "metadata": {},
   "source": [
    "Let's see what is going on in `action` (when the user has remained on the page for a pre-specified amount of time) attribute distribution. We have here kind of obvious fact that the majority of the user logs will be `checkin`  value (when the user has remained on the page for a pre-specified amount of time). Users spend most of the time reading the Wikipedia articles. More surprising can be quite a lot of `searchResultPage` (when a new search is performed and the user is shown a SERP). That means that users also use Wikipedia search feature really actively. However there is really low number of `visitPage` events (when the user clicks a link in the results). Theoretically every search result page view could end up clicking on one of the result. However since number of `visitPage` events is much lower comparing to `searchResultPage` means there are a lot of searches that does not end with clicking on any of the results - probably refining the query anr running search again. The question that could be asked here is how large is the number of searches which does not result in user clicking on any of the result. That could be infered indirectly by checking the difference between `searchResultPage` events number and `visitPage`. Let's do it."
   ]
  },
  {
   "cell_type": "code",
   "execution_count": 21,
   "metadata": {
    "collapsed": false
   },
   "outputs": [
    {
     "data": {
      "text/plain": [
       "checkin             223187\n",
       "searchResultPage    135874\n",
       "visitPage            39804\n",
       "Name: action, dtype: int64"
      ]
     },
     "execution_count": 21,
     "metadata": {},
     "output_type": "execute_result"
    }
   ],
   "source": [
    "val_counts = activity_df[\"action\"].value_counts()\n",
    "val_counts"
   ]
  },
  {
   "cell_type": "code",
   "execution_count": 22,
   "metadata": {
    "collapsed": false
   },
   "outputs": [
    {
     "data": {
      "text/plain": [
       "0.29294787818125617"
      ]
     },
     "execution_count": 22,
     "metadata": {},
     "output_type": "execute_result"
    }
   ],
   "source": [
    "val_counts[\"visitPage\"] / val_counts[\"searchResultPage\"]"
   ]
  },
  {
   "cell_type": "markdown",
   "metadata": {},
   "source": [
    "That would mean that 96070 out of 135874 `searchResultPage` did not end with `visitPage` event meaning that 70% of all searches end up with not finding what the user was looking for and either droping the search or repeating the search with more detailed or modified query. That, comparing to above analysis of `result_position` attribute values is not so optimistic. All in all it means that if after searching something on Wikipedia user finds correct result and clicks on results page link, the result is most likely in the top 5 links. However in 70% of search cases user does not click any of returned result. That is not so effective as it looked before. We could further analyse this problem by searching for such (multiple failed searches) patterns in user logs events or use this value as one of the metrics we will construct to measure users behavior by investigating how this values changes over time. Will focus on it in next stage of this analysis."
   ]
  },
  {
   "cell_type": "markdown",
   "metadata": {},
   "source": [
    "## 4. Answer the questions\n",
    "\n",
    "We are now ready to start answering questions we posed in the begining.\n",
    "\n",
    "### 4.1 What is the daily overall clickthrough rate and how does it vary between the groups?\n",
    "\n",
    "We define clickthrough rate as the proportion of search sessions where the user clicked on one of the results displayed. \n",
    "\n",
    "To answer these questions lets first check how example session looks like."
   ]
  },
  {
   "cell_type": "code",
   "execution_count": 23,
   "metadata": {
    "collapsed": false,
    "scrolled": false
   },
   "outputs": [
    {
     "data": {
      "text/html": [
       "<div>\n",
       "<table border=\"1\" class=\"dataframe\">\n",
       "  <thead>\n",
       "    <tr style=\"text-align: right;\">\n",
       "      <th></th>\n",
       "      <th>uuid</th>\n",
       "      <th>timestamp</th>\n",
       "      <th>session_id</th>\n",
       "      <th>group</th>\n",
       "      <th>action</th>\n",
       "      <th>checkin</th>\n",
       "      <th>page_id</th>\n",
       "      <th>n_results</th>\n",
       "      <th>result_position</th>\n",
       "    </tr>\n",
       "  </thead>\n",
       "  <tbody>\n",
       "    <tr>\n",
       "      <th>0</th>\n",
       "      <td>00000736167c507e8ec225bd9e71f9e5</td>\n",
       "      <td>2016-03-01 10:38:42</td>\n",
       "      <td>78245c2c3fba013a</td>\n",
       "      <td>b</td>\n",
       "      <td>searchResultPage</td>\n",
       "      <td>NaN</td>\n",
       "      <td>cbeb66d1bc1f1bc2</td>\n",
       "      <td>5.0</td>\n",
       "      <td>NaN</td>\n",
       "    </tr>\n",
       "    <tr>\n",
       "      <th>85006</th>\n",
       "      <td>36af0358f25155fb8978d5f50737d432</td>\n",
       "      <td>2016-03-01 10:38:46</td>\n",
       "      <td>78245c2c3fba013a</td>\n",
       "      <td>b</td>\n",
       "      <td>visitPage</td>\n",
       "      <td>NaN</td>\n",
       "      <td>2f0e04bd56649f43</td>\n",
       "      <td>NaN</td>\n",
       "      <td>3.0</td>\n",
       "    </tr>\n",
       "    <tr>\n",
       "      <th>80131</th>\n",
       "      <td>33922e14b6bb5e27823481a3c44ed462</td>\n",
       "      <td>2016-03-01 10:38:56</td>\n",
       "      <td>78245c2c3fba013a</td>\n",
       "      <td>b</td>\n",
       "      <td>checkin</td>\n",
       "      <td>10.0</td>\n",
       "      <td>2f0e04bd56649f43</td>\n",
       "      <td>NaN</td>\n",
       "      <td>3.0</td>\n",
       "    </tr>\n",
       "    <tr>\n",
       "      <th>31531</th>\n",
       "      <td>14601aeb2bf058af9380c1644e606e24</td>\n",
       "      <td>2016-03-01 10:39:06</td>\n",
       "      <td>78245c2c3fba013a</td>\n",
       "      <td>b</td>\n",
       "      <td>checkin</td>\n",
       "      <td>20.0</td>\n",
       "      <td>2f0e04bd56649f43</td>\n",
       "      <td>NaN</td>\n",
       "      <td>3.0</td>\n",
       "    </tr>\n",
       "    <tr>\n",
       "      <th>468</th>\n",
       "      <td>004690364c695f04b5d045913e1bdf7c</td>\n",
       "      <td>2016-03-01 10:39:16</td>\n",
       "      <td>78245c2c3fba013a</td>\n",
       "      <td>b</td>\n",
       "      <td>checkin</td>\n",
       "      <td>30.0</td>\n",
       "      <td>2f0e04bd56649f43</td>\n",
       "      <td>NaN</td>\n",
       "      <td>3.0</td>\n",
       "    </tr>\n",
       "    <tr>\n",
       "      <th>17056</th>\n",
       "      <td>0af62216356759fea26313e155f70809</td>\n",
       "      <td>2016-03-01 10:39:26</td>\n",
       "      <td>78245c2c3fba013a</td>\n",
       "      <td>b</td>\n",
       "      <td>checkin</td>\n",
       "      <td>40.0</td>\n",
       "      <td>2f0e04bd56649f43</td>\n",
       "      <td>NaN</td>\n",
       "      <td>3.0</td>\n",
       "    </tr>\n",
       "  </tbody>\n",
       "</table>\n",
       "</div>"
      ],
      "text/plain": [
       "                                   uuid           timestamp        session_id  \\\n",
       "0      00000736167c507e8ec225bd9e71f9e5 2016-03-01 10:38:42  78245c2c3fba013a   \n",
       "85006  36af0358f25155fb8978d5f50737d432 2016-03-01 10:38:46  78245c2c3fba013a   \n",
       "80131  33922e14b6bb5e27823481a3c44ed462 2016-03-01 10:38:56  78245c2c3fba013a   \n",
       "31531  14601aeb2bf058af9380c1644e606e24 2016-03-01 10:39:06  78245c2c3fba013a   \n",
       "468    004690364c695f04b5d045913e1bdf7c 2016-03-01 10:39:16  78245c2c3fba013a   \n",
       "17056  0af62216356759fea26313e155f70809 2016-03-01 10:39:26  78245c2c3fba013a   \n",
       "\n",
       "      group            action  checkin           page_id  n_results  \\\n",
       "0         b  searchResultPage      NaN  cbeb66d1bc1f1bc2        5.0   \n",
       "85006     b         visitPage      NaN  2f0e04bd56649f43        NaN   \n",
       "80131     b           checkin     10.0  2f0e04bd56649f43        NaN   \n",
       "31531     b           checkin     20.0  2f0e04bd56649f43        NaN   \n",
       "468       b           checkin     30.0  2f0e04bd56649f43        NaN   \n",
       "17056     b           checkin     40.0  2f0e04bd56649f43        NaN   \n",
       "\n",
       "       result_position  \n",
       "0                  NaN  \n",
       "85006              3.0  \n",
       "80131              3.0  \n",
       "31531              3.0  \n",
       "468                3.0  \n",
       "17056              3.0  "
      ]
     },
     "execution_count": 23,
     "metadata": {},
     "output_type": "execute_result"
    }
   ],
   "source": [
    "activity_df[activity_df[\"session_id\"] == \"78245c2c3fba013a\"].sort_values(by=\"timestamp\")"
   ]
  },
  {
   "cell_type": "markdown",
   "metadata": {
    "collapsed": true
   },
   "source": [
    "We can see that there is a pattern in `action` attribute we are looking for: `searchResultPage` value followed by `visitPage` value meaning that user performed search and then clicked on one of the results. Cases like this are the search sessions where the user clicked on one of the results displayed we want to get for metric we create.\n",
    "\n",
    "For completeness - the other case would be `searchResultPage` followed by another `searchResultPage` meaning that did not find anything interesting to visit or just end of session meaning that user simply left/closed the webpage without doing anything.\n",
    "\n",
    "Let's create new attribute by adding `clicked_through` marking each searchResultPage with 1 if it was followed by page visit (meaning that user clicked on one of the search result) and 0 otherwise. For action types other then `searchResultPage` we will put NaN value in this column. This will allow us to later easily agregate this value for calculating our metric in different time aspects and for users groups.\n",
    "\n",
    "It is worth mentioning that user logs are recorded in the database/dataset not in time of occurence order. Above data table is sorted by `timestamp` to show how events occurence order. But when we look at these time ordered event data we can see that indices are not in order meaning that index order is different than timestamp order. We will have to keep in mind when analysing the data.\n",
    "\n",
    "Let's first go manually through above session and analyze first `searchResultPage`. First we will select search page display event we decided to analyze."
   ]
  },
  {
   "cell_type": "code",
   "execution_count": 24,
   "metadata": {
    "collapsed": false
   },
   "outputs": [
    {
     "data": {
      "text/plain": [
       "uuid               00000736167c507e8ec225bd9e71f9e5\n",
       "timestamp                       2016-03-01 10:38:42\n",
       "session_id                         78245c2c3fba013a\n",
       "group                                             b\n",
       "action                             searchResultPage\n",
       "checkin                                         NaN\n",
       "page_id                            cbeb66d1bc1f1bc2\n",
       "n_results                                         5\n",
       "result_position                                 NaN\n",
       "Name: 0, dtype: object"
      ]
     },
     "execution_count": 24,
     "metadata": {},
     "output_type": "execute_result"
    }
   ],
   "source": [
    "search_page = activity_df.iloc[0]\n",
    "search_page"
   ]
  },
  {
   "cell_type": "markdown",
   "metadata": {},
   "source": [
    "Next we will group all user logs by `session_id`. Thanks to that we will be able to quickly (hashtable) look for specific session for give search result page instead of iterating through whole data frame over and over again."
   ]
  },
  {
   "cell_type": "code",
   "execution_count": 25,
   "metadata": {
    "collapsed": false
   },
   "outputs": [],
   "source": [
    "session_id_grouped = activity_df.groupby(\"session_id\")"
   ]
  },
  {
   "cell_type": "markdown",
   "metadata": {},
   "source": [
    "Now from our grouped events let's select the ones from the same `session_id` as our selected `searchResultPage` event log and ordered by timestamps of events."
   ]
  },
  {
   "cell_type": "code",
   "execution_count": 26,
   "metadata": {
    "collapsed": false
   },
   "outputs": [
    {
     "data": {
      "text/html": [
       "<div>\n",
       "<table border=\"1\" class=\"dataframe\">\n",
       "  <thead>\n",
       "    <tr style=\"text-align: right;\">\n",
       "      <th></th>\n",
       "      <th>uuid</th>\n",
       "      <th>timestamp</th>\n",
       "      <th>session_id</th>\n",
       "      <th>group</th>\n",
       "      <th>action</th>\n",
       "      <th>checkin</th>\n",
       "      <th>page_id</th>\n",
       "      <th>n_results</th>\n",
       "      <th>result_position</th>\n",
       "    </tr>\n",
       "  </thead>\n",
       "  <tbody>\n",
       "    <tr>\n",
       "      <th>0</th>\n",
       "      <td>00000736167c507e8ec225bd9e71f9e5</td>\n",
       "      <td>2016-03-01 10:38:42</td>\n",
       "      <td>78245c2c3fba013a</td>\n",
       "      <td>b</td>\n",
       "      <td>searchResultPage</td>\n",
       "      <td>NaN</td>\n",
       "      <td>cbeb66d1bc1f1bc2</td>\n",
       "      <td>5.0</td>\n",
       "      <td>NaN</td>\n",
       "    </tr>\n",
       "    <tr>\n",
       "      <th>85006</th>\n",
       "      <td>36af0358f25155fb8978d5f50737d432</td>\n",
       "      <td>2016-03-01 10:38:46</td>\n",
       "      <td>78245c2c3fba013a</td>\n",
       "      <td>b</td>\n",
       "      <td>visitPage</td>\n",
       "      <td>NaN</td>\n",
       "      <td>2f0e04bd56649f43</td>\n",
       "      <td>NaN</td>\n",
       "      <td>3.0</td>\n",
       "    </tr>\n",
       "    <tr>\n",
       "      <th>80131</th>\n",
       "      <td>33922e14b6bb5e27823481a3c44ed462</td>\n",
       "      <td>2016-03-01 10:38:56</td>\n",
       "      <td>78245c2c3fba013a</td>\n",
       "      <td>b</td>\n",
       "      <td>checkin</td>\n",
       "      <td>10.0</td>\n",
       "      <td>2f0e04bd56649f43</td>\n",
       "      <td>NaN</td>\n",
       "      <td>3.0</td>\n",
       "    </tr>\n",
       "    <tr>\n",
       "      <th>31531</th>\n",
       "      <td>14601aeb2bf058af9380c1644e606e24</td>\n",
       "      <td>2016-03-01 10:39:06</td>\n",
       "      <td>78245c2c3fba013a</td>\n",
       "      <td>b</td>\n",
       "      <td>checkin</td>\n",
       "      <td>20.0</td>\n",
       "      <td>2f0e04bd56649f43</td>\n",
       "      <td>NaN</td>\n",
       "      <td>3.0</td>\n",
       "    </tr>\n",
       "    <tr>\n",
       "      <th>468</th>\n",
       "      <td>004690364c695f04b5d045913e1bdf7c</td>\n",
       "      <td>2016-03-01 10:39:16</td>\n",
       "      <td>78245c2c3fba013a</td>\n",
       "      <td>b</td>\n",
       "      <td>checkin</td>\n",
       "      <td>30.0</td>\n",
       "      <td>2f0e04bd56649f43</td>\n",
       "      <td>NaN</td>\n",
       "      <td>3.0</td>\n",
       "    </tr>\n",
       "    <tr>\n",
       "      <th>17056</th>\n",
       "      <td>0af62216356759fea26313e155f70809</td>\n",
       "      <td>2016-03-01 10:39:26</td>\n",
       "      <td>78245c2c3fba013a</td>\n",
       "      <td>b</td>\n",
       "      <td>checkin</td>\n",
       "      <td>40.0</td>\n",
       "      <td>2f0e04bd56649f43</td>\n",
       "      <td>NaN</td>\n",
       "      <td>3.0</td>\n",
       "    </tr>\n",
       "  </tbody>\n",
       "</table>\n",
       "</div>"
      ],
      "text/plain": [
       "                                   uuid           timestamp        session_id  \\\n",
       "0      00000736167c507e8ec225bd9e71f9e5 2016-03-01 10:38:42  78245c2c3fba013a   \n",
       "85006  36af0358f25155fb8978d5f50737d432 2016-03-01 10:38:46  78245c2c3fba013a   \n",
       "80131  33922e14b6bb5e27823481a3c44ed462 2016-03-01 10:38:56  78245c2c3fba013a   \n",
       "31531  14601aeb2bf058af9380c1644e606e24 2016-03-01 10:39:06  78245c2c3fba013a   \n",
       "468    004690364c695f04b5d045913e1bdf7c 2016-03-01 10:39:16  78245c2c3fba013a   \n",
       "17056  0af62216356759fea26313e155f70809 2016-03-01 10:39:26  78245c2c3fba013a   \n",
       "\n",
       "      group            action  checkin           page_id  n_results  \\\n",
       "0         b  searchResultPage      NaN  cbeb66d1bc1f1bc2        5.0   \n",
       "85006     b         visitPage      NaN  2f0e04bd56649f43        NaN   \n",
       "80131     b           checkin     10.0  2f0e04bd56649f43        NaN   \n",
       "31531     b           checkin     20.0  2f0e04bd56649f43        NaN   \n",
       "468       b           checkin     30.0  2f0e04bd56649f43        NaN   \n",
       "17056     b           checkin     40.0  2f0e04bd56649f43        NaN   \n",
       "\n",
       "       result_position  \n",
       "0                  NaN  \n",
       "85006              3.0  \n",
       "80131              3.0  \n",
       "31531              3.0  \n",
       "468                3.0  \n",
       "17056              3.0  "
      ]
     },
     "execution_count": 26,
     "metadata": {},
     "output_type": "execute_result"
    }
   ],
   "source": [
    "ordered_search_session_events = session_id_grouped.get_group(search_page[\"session_id\"]).sort_values(by=\"timestamp\")\n",
    "ordered_search_session_events"
   ]
  },
  {
   "cell_type": "markdown",
   "metadata": {},
   "source": [
    "Finally let's keep only events AFTER our analyzed `searchResultPage` and check what type is the first event right after it."
   ]
  },
  {
   "cell_type": "code",
   "execution_count": 27,
   "metadata": {
    "collapsed": false
   },
   "outputs": [
    {
     "data": {
      "text/plain": [
       "uuid               36af0358f25155fb8978d5f50737d432\n",
       "timestamp                       2016-03-01 10:38:46\n",
       "session_id                         78245c2c3fba013a\n",
       "group                                             b\n",
       "action                                    visitPage\n",
       "checkin                                         NaN\n",
       "page_id                            2f0e04bd56649f43\n",
       "n_results                                       NaN\n",
       "result_position                                   3\n",
       "Name: 85006, dtype: object"
      ]
     },
     "execution_count": 27,
     "metadata": {},
     "output_type": "execute_result"
    }
   ],
   "source": [
    "after_search_events = ordered_search_session_events[ordered_search_session_events[\"timestamp\"] > search_page[\"timestamp\"]]\n",
    "after_search_events.iloc[0]"
   ]
  },
  {
   "cell_type": "markdown",
   "metadata": {},
   "source": [
    "That event `action` value if `visitPage`. That tells us that next event log right after our analysed `searchResultPage` event was an `visitPage` event meaning that user clicked on one of the search result links - third link to be exact!"
   ]
  },
  {
   "cell_type": "markdown",
   "metadata": {},
   "source": [
    "Let's now streamline this whole process for the whole dataframe and for each of the user logs. Processing all 398865 data logs can take some time (e.g. minutes depending on the machine) but it is worthwhile."
   ]
  },
  {
   "cell_type": "code",
   "execution_count": 43,
   "metadata": {
    "collapsed": false
   },
   "outputs": [],
   "source": [
    "def get_searches_click_through(df):\n",
    "    session_id_grouped = df.groupby(\"session_id\")\n",
    "    search_pages = df[df[\"action\"] == \"searchResultPage\"]\n",
    "    \n",
    "    clicked_through = np.empty(len(df))\n",
    "    clicked_through[:] = np.nan\n",
    "    \n",
    "    for idx, search_page in search_pages.iterrows():\n",
    "        ordered_search_session_events = session_id_grouped.get_group(search_page[\"session_id\"]).sort_values(by=\"timestamp\")\n",
    "        after_search_events = ordered_search_session_events[ordered_search_session_events[\"timestamp\"] > search_page[\"timestamp\"]]\n",
    "        \n",
    "        if len(after_search_events) > 0 and after_search_events.iloc[0][\"action\"] == \"visitPage\":\n",
    "            clicked_through[idx] = 1\n",
    "        else:\n",
    "            clicked_through[idx] = 0\n",
    "    \n",
    "    return clicked_through\n"
   ]
  },
  {
   "cell_type": "code",
   "execution_count": 44,
   "metadata": {
    "collapsed": false
   },
   "outputs": [],
   "source": [
    "activity_df[\"clicked_through\"] = get_searches_click_through(activity_df)"
   ]
  },
  {
   "cell_type": "code",
   "execution_count": 45,
   "metadata": {
    "collapsed": false
   },
   "outputs": [
    {
     "data": {
      "text/html": [
       "<div>\n",
       "<table border=\"1\" class=\"dataframe\">\n",
       "  <thead>\n",
       "    <tr style=\"text-align: right;\">\n",
       "      <th></th>\n",
       "      <th>uuid</th>\n",
       "      <th>timestamp</th>\n",
       "      <th>session_id</th>\n",
       "      <th>group</th>\n",
       "      <th>action</th>\n",
       "      <th>checkin</th>\n",
       "      <th>page_id</th>\n",
       "      <th>n_results</th>\n",
       "      <th>result_position</th>\n",
       "      <th>clicked_through</th>\n",
       "    </tr>\n",
       "  </thead>\n",
       "  <tbody>\n",
       "    <tr>\n",
       "      <th>0</th>\n",
       "      <td>00000736167c507e8ec225bd9e71f9e5</td>\n",
       "      <td>2016-03-01 10:38:42</td>\n",
       "      <td>78245c2c3fba013a</td>\n",
       "      <td>b</td>\n",
       "      <td>searchResultPage</td>\n",
       "      <td>NaN</td>\n",
       "      <td>cbeb66d1bc1f1bc2</td>\n",
       "      <td>5.0</td>\n",
       "      <td>NaN</td>\n",
       "      <td>1.0</td>\n",
       "    </tr>\n",
       "    <tr>\n",
       "      <th>1</th>\n",
       "      <td>00000c69fe345268935463abbfa5d5b3</td>\n",
       "      <td>2016-03-07 00:52:26</td>\n",
       "      <td>c559c3be98dca8a4</td>\n",
       "      <td>a</td>\n",
       "      <td>searchResultPage</td>\n",
       "      <td>NaN</td>\n",
       "      <td>eb658e8722aad674</td>\n",
       "      <td>10.0</td>\n",
       "      <td>NaN</td>\n",
       "      <td>0.0</td>\n",
       "    </tr>\n",
       "    <tr>\n",
       "      <th>2</th>\n",
       "      <td>00003bfdab715ee59077a3670331b787</td>\n",
       "      <td>2016-03-02 14:53:05</td>\n",
       "      <td>760bf89817ce4b08</td>\n",
       "      <td>a</td>\n",
       "      <td>checkin</td>\n",
       "      <td>30.0</td>\n",
       "      <td>f99a9fc1f7fdd21e</td>\n",
       "      <td>NaN</td>\n",
       "      <td>NaN</td>\n",
       "      <td>NaN</td>\n",
       "    </tr>\n",
       "    <tr>\n",
       "      <th>3</th>\n",
       "      <td>0000465cd7c35ad2bdeafec953e08c1a</td>\n",
       "      <td>2016-03-02 22:27:01</td>\n",
       "      <td>fb905603d31b2071</td>\n",
       "      <td>a</td>\n",
       "      <td>checkin</td>\n",
       "      <td>60.0</td>\n",
       "      <td>e5626962a6939a75</td>\n",
       "      <td>NaN</td>\n",
       "      <td>10.0</td>\n",
       "      <td>NaN</td>\n",
       "    </tr>\n",
       "    <tr>\n",
       "      <th>4</th>\n",
       "      <td>000050cbb4ef5b42b16c4d2cf69e6358</td>\n",
       "      <td>2016-03-02 09:50:23</td>\n",
       "      <td>c2bf5e5172a892dc</td>\n",
       "      <td>a</td>\n",
       "      <td>checkin</td>\n",
       "      <td>30.0</td>\n",
       "      <td>787dd6a4c371cbf9</td>\n",
       "      <td>NaN</td>\n",
       "      <td>NaN</td>\n",
       "      <td>NaN</td>\n",
       "    </tr>\n",
       "  </tbody>\n",
       "</table>\n",
       "</div>"
      ],
      "text/plain": [
       "                               uuid           timestamp        session_id  \\\n",
       "0  00000736167c507e8ec225bd9e71f9e5 2016-03-01 10:38:42  78245c2c3fba013a   \n",
       "1  00000c69fe345268935463abbfa5d5b3 2016-03-07 00:52:26  c559c3be98dca8a4   \n",
       "2  00003bfdab715ee59077a3670331b787 2016-03-02 14:53:05  760bf89817ce4b08   \n",
       "3  0000465cd7c35ad2bdeafec953e08c1a 2016-03-02 22:27:01  fb905603d31b2071   \n",
       "4  000050cbb4ef5b42b16c4d2cf69e6358 2016-03-02 09:50:23  c2bf5e5172a892dc   \n",
       "\n",
       "  group            action  checkin           page_id  n_results  \\\n",
       "0     b  searchResultPage      NaN  cbeb66d1bc1f1bc2        5.0   \n",
       "1     a  searchResultPage      NaN  eb658e8722aad674       10.0   \n",
       "2     a           checkin     30.0  f99a9fc1f7fdd21e        NaN   \n",
       "3     a           checkin     60.0  e5626962a6939a75        NaN   \n",
       "4     a           checkin     30.0  787dd6a4c371cbf9        NaN   \n",
       "\n",
       "   result_position  clicked_through  \n",
       "0              NaN              1.0  \n",
       "1              NaN              0.0  \n",
       "2              NaN              NaN  \n",
       "3             10.0              NaN  \n",
       "4              NaN              NaN  "
      ]
     },
     "execution_count": 45,
     "metadata": {},
     "output_type": "execute_result"
    }
   ],
   "source": [
    "activity_df.head()"
   ]
  },
  {
   "cell_type": "markdown",
   "metadata": {},
   "source": [
    "So we are now fully ready to answer our questions.\n",
    "\n",
    "#### What is the overall clickthrough rate?"
   ]
  },
  {
   "cell_type": "code",
   "execution_count": 46,
   "metadata": {
    "collapsed": true
   },
   "outputs": [],
   "source": [
    "def get_clickthrough_rate(df):\n",
    "    return df[df[\"action\"] == \"searchResultPage\"][\"clicked_through\"].sum() / len(df[df[\"action\"] == \"searchResultPage\"])"
   ]
  },
  {
   "cell_type": "code",
   "execution_count": 47,
   "metadata": {
    "collapsed": false
   },
   "outputs": [
    {
     "data": {
      "text/plain": [
       "0.24212137715824955"
      ]
     },
     "execution_count": 47,
     "metadata": {},
     "output_type": "execute_result"
    }
   ],
   "source": [
    "get_clickthrough_rate(activity_df)"
   ]
  },
  {
   "cell_type": "markdown",
   "metadata": {},
   "source": [
    "The overall clickthrough rate is at 0.2421 level meaning that about 24.21% of overall searches ends with user clicking on a one of returned links. Let's remember that we estimated it in exploratory stage to be 0.2929. What happened? Let's look at overall number `searchResultPage` events."
   ]
  },
  {
   "cell_type": "code",
   "execution_count": 48,
   "metadata": {
    "collapsed": false
   },
   "outputs": [
    {
     "data": {
      "text/plain": [
       "135874"
      ]
     },
     "execution_count": 48,
     "metadata": {},
     "output_type": "execute_result"
    }
   ],
   "source": [
    "len(activity_df[activity_df[\"action\"] == \"searchResultPage\"])"
   ]
  },
  {
   "cell_type": "markdown",
   "metadata": {},
   "source": [
    "The same value as when we analysed the bar chart for `action` attribute. What about number of searches which ended with user clicking one of the search results?"
   ]
  },
  {
   "cell_type": "code",
   "execution_count": 49,
   "metadata": {
    "collapsed": false
   },
   "outputs": [
    {
     "data": {
      "text/plain": [
       "32898.0"
      ]
     },
     "execution_count": 49,
     "metadata": {},
     "output_type": "execute_result"
    }
   ],
   "source": [
    "activity_df[activity_df[\"action\"] == \"searchResultPage\"][\"clicked_through\"].sum()"
   ]
  },
  {
   "cell_type": "markdown",
   "metadata": {},
   "source": [
    "There is overall 39804 `visitPage` events in the dataset. Why only 32898 `searchResultPage` were followed by `visitPage` event? We have to keep in mind that there are `visitPage` events which are not a result of choosing a link from `searchResultPage` (example below) and therefore they are not included in our metrics final number. "
   ]
  },
  {
   "cell_type": "code",
   "execution_count": 50,
   "metadata": {
    "collapsed": false
   },
   "outputs": [
    {
     "data": {
      "text/html": [
       "<div>\n",
       "<table border=\"1\" class=\"dataframe\">\n",
       "  <thead>\n",
       "    <tr style=\"text-align: right;\">\n",
       "      <th></th>\n",
       "      <th>uuid</th>\n",
       "      <th>timestamp</th>\n",
       "      <th>session_id</th>\n",
       "      <th>group</th>\n",
       "      <th>action</th>\n",
       "      <th>checkin</th>\n",
       "      <th>page_id</th>\n",
       "      <th>n_results</th>\n",
       "      <th>result_position</th>\n",
       "      <th>clicked_through</th>\n",
       "    </tr>\n",
       "  </thead>\n",
       "  <tbody>\n",
       "    <tr>\n",
       "      <th>325025</th>\n",
       "      <td>d054879b4a5e5f9da1540a7a91118894</td>\n",
       "      <td>2016-03-01 01:19:17</td>\n",
       "      <td>66a1ccf936a2aca1</td>\n",
       "      <td>a</td>\n",
       "      <td>searchResultPage</td>\n",
       "      <td>NaN</td>\n",
       "      <td>b15e97730eaf187a</td>\n",
       "      <td>20.0</td>\n",
       "      <td>NaN</td>\n",
       "      <td>0.0</td>\n",
       "    </tr>\n",
       "    <tr>\n",
       "      <th>314788</th>\n",
       "      <td>c9caef4c00ab56d18f2f10a1e3e5557d</td>\n",
       "      <td>2016-03-01 01:19:38</td>\n",
       "      <td>66a1ccf936a2aca1</td>\n",
       "      <td>a</td>\n",
       "      <td>searchResultPage</td>\n",
       "      <td>NaN</td>\n",
       "      <td>2a047288b1d046c5</td>\n",
       "      <td>20.0</td>\n",
       "      <td>NaN</td>\n",
       "      <td>1.0</td>\n",
       "    </tr>\n",
       "    <tr>\n",
       "      <th>445</th>\n",
       "      <td>00425c87f40657cea53c79b268f89cb2</td>\n",
       "      <td>2016-03-01 01:19:51</td>\n",
       "      <td>66a1ccf936a2aca1</td>\n",
       "      <td>a</td>\n",
       "      <td>visitPage</td>\n",
       "      <td>NaN</td>\n",
       "      <td>9676425891e0715a</td>\n",
       "      <td>NaN</td>\n",
       "      <td>1.0</td>\n",
       "      <td>NaN</td>\n",
       "    </tr>\n",
       "    <tr>\n",
       "      <th>774</th>\n",
       "      <td>007a2ab683465b948273454d16edc10a</td>\n",
       "      <td>2016-03-01 01:20:01</td>\n",
       "      <td>66a1ccf936a2aca1</td>\n",
       "      <td>a</td>\n",
       "      <td>checkin</td>\n",
       "      <td>10.0</td>\n",
       "      <td>9676425891e0715a</td>\n",
       "      <td>NaN</td>\n",
       "      <td>1.0</td>\n",
       "      <td>NaN</td>\n",
       "    </tr>\n",
       "    <tr>\n",
       "      <th>296997</th>\n",
       "      <td>be4d89ccac8351ebad91d8ed9d79f84d</td>\n",
       "      <td>2016-03-01 01:20:11</td>\n",
       "      <td>66a1ccf936a2aca1</td>\n",
       "      <td>a</td>\n",
       "      <td>checkin</td>\n",
       "      <td>20.0</td>\n",
       "      <td>9676425891e0715a</td>\n",
       "      <td>NaN</td>\n",
       "      <td>1.0</td>\n",
       "      <td>NaN</td>\n",
       "    </tr>\n",
       "    <tr>\n",
       "      <th>192645</th>\n",
       "      <td>7b7fb22549755977941090ae6fceafd8</td>\n",
       "      <td>2016-03-01 01:20:20</td>\n",
       "      <td>66a1ccf936a2aca1</td>\n",
       "      <td>a</td>\n",
       "      <td>visitPage</td>\n",
       "      <td>NaN</td>\n",
       "      <td>d5e063af052ee843</td>\n",
       "      <td>NaN</td>\n",
       "      <td>NaN</td>\n",
       "      <td>NaN</td>\n",
       "    </tr>\n",
       "    <tr>\n",
       "      <th>17611</th>\n",
       "      <td>0b5244ac92f558b283673e03baa9740c</td>\n",
       "      <td>2016-03-01 01:20:29</td>\n",
       "      <td>66a1ccf936a2aca1</td>\n",
       "      <td>a</td>\n",
       "      <td>checkin</td>\n",
       "      <td>10.0</td>\n",
       "      <td>d5e063af052ee843</td>\n",
       "      <td>NaN</td>\n",
       "      <td>NaN</td>\n",
       "      <td>NaN</td>\n",
       "    </tr>\n",
       "    <tr>\n",
       "      <th>49765</th>\n",
       "      <td>20147b1f27af50458ce1e376e0c53419</td>\n",
       "      <td>2016-03-01 01:20:39</td>\n",
       "      <td>66a1ccf936a2aca1</td>\n",
       "      <td>a</td>\n",
       "      <td>checkin</td>\n",
       "      <td>20.0</td>\n",
       "      <td>d5e063af052ee843</td>\n",
       "      <td>NaN</td>\n",
       "      <td>NaN</td>\n",
       "      <td>NaN</td>\n",
       "    </tr>\n",
       "    <tr>\n",
       "      <th>313450</th>\n",
       "      <td>c8ef25e9042e5857acb2ae453233f528</td>\n",
       "      <td>2016-03-01 01:20:49</td>\n",
       "      <td>66a1ccf936a2aca1</td>\n",
       "      <td>a</td>\n",
       "      <td>checkin</td>\n",
       "      <td>30.0</td>\n",
       "      <td>d5e063af052ee843</td>\n",
       "      <td>NaN</td>\n",
       "      <td>NaN</td>\n",
       "      <td>NaN</td>\n",
       "    </tr>\n",
       "    <tr>\n",
       "      <th>385510</th>\n",
       "      <td>f757cbd598bd52e0a487be64c006f70a</td>\n",
       "      <td>2016-03-01 01:20:59</td>\n",
       "      <td>66a1ccf936a2aca1</td>\n",
       "      <td>a</td>\n",
       "      <td>checkin</td>\n",
       "      <td>40.0</td>\n",
       "      <td>d5e063af052ee843</td>\n",
       "      <td>NaN</td>\n",
       "      <td>NaN</td>\n",
       "      <td>NaN</td>\n",
       "    </tr>\n",
       "    <tr>\n",
       "      <th>389334</th>\n",
       "      <td>f9cf26bffd19525da389786b5fbd9498</td>\n",
       "      <td>2016-03-01 01:21:09</td>\n",
       "      <td>66a1ccf936a2aca1</td>\n",
       "      <td>a</td>\n",
       "      <td>checkin</td>\n",
       "      <td>50.0</td>\n",
       "      <td>d5e063af052ee843</td>\n",
       "      <td>NaN</td>\n",
       "      <td>NaN</td>\n",
       "      <td>NaN</td>\n",
       "    </tr>\n",
       "    <tr>\n",
       "      <th>39749</th>\n",
       "      <td>19a86611fa0957df901edb6fd238409f</td>\n",
       "      <td>2016-03-01 01:21:19</td>\n",
       "      <td>66a1ccf936a2aca1</td>\n",
       "      <td>a</td>\n",
       "      <td>checkin</td>\n",
       "      <td>60.0</td>\n",
       "      <td>d5e063af052ee843</td>\n",
       "      <td>NaN</td>\n",
       "      <td>NaN</td>\n",
       "      <td>NaN</td>\n",
       "    </tr>\n",
       "    <tr>\n",
       "      <th>490</th>\n",
       "      <td>004967fdb3875b6db710320a52a32c31</td>\n",
       "      <td>2016-03-01 01:21:49</td>\n",
       "      <td>66a1ccf936a2aca1</td>\n",
       "      <td>a</td>\n",
       "      <td>checkin</td>\n",
       "      <td>90.0</td>\n",
       "      <td>d5e063af052ee843</td>\n",
       "      <td>NaN</td>\n",
       "      <td>NaN</td>\n",
       "      <td>NaN</td>\n",
       "    </tr>\n",
       "    <tr>\n",
       "      <th>208232</th>\n",
       "      <td>85819fbc368159a68dd56467632fdd1e</td>\n",
       "      <td>2016-03-01 01:22:19</td>\n",
       "      <td>66a1ccf936a2aca1</td>\n",
       "      <td>a</td>\n",
       "      <td>checkin</td>\n",
       "      <td>120.0</td>\n",
       "      <td>d5e063af052ee843</td>\n",
       "      <td>NaN</td>\n",
       "      <td>NaN</td>\n",
       "      <td>NaN</td>\n",
       "    </tr>\n",
       "    <tr>\n",
       "      <th>395625</th>\n",
       "      <td>fde34f4c62e15887940d1c125f929ecd</td>\n",
       "      <td>2016-03-01 01:22:49</td>\n",
       "      <td>66a1ccf936a2aca1</td>\n",
       "      <td>a</td>\n",
       "      <td>checkin</td>\n",
       "      <td>150.0</td>\n",
       "      <td>d5e063af052ee843</td>\n",
       "      <td>NaN</td>\n",
       "      <td>NaN</td>\n",
       "      <td>NaN</td>\n",
       "    </tr>\n",
       "    <tr>\n",
       "      <th>236524</th>\n",
       "      <td>979b0dc9d2665c86ae6f6b42e79c83ad</td>\n",
       "      <td>2016-03-01 01:23:19</td>\n",
       "      <td>66a1ccf936a2aca1</td>\n",
       "      <td>a</td>\n",
       "      <td>checkin</td>\n",
       "      <td>180.0</td>\n",
       "      <td>d5e063af052ee843</td>\n",
       "      <td>NaN</td>\n",
       "      <td>NaN</td>\n",
       "      <td>NaN</td>\n",
       "    </tr>\n",
       "    <tr>\n",
       "      <th>361402</th>\n",
       "      <td>e7ec66f7a85f5df9baf05f0c75fea1d4</td>\n",
       "      <td>2016-03-01 01:23:49</td>\n",
       "      <td>66a1ccf936a2aca1</td>\n",
       "      <td>a</td>\n",
       "      <td>checkin</td>\n",
       "      <td>210.0</td>\n",
       "      <td>d5e063af052ee843</td>\n",
       "      <td>NaN</td>\n",
       "      <td>NaN</td>\n",
       "      <td>NaN</td>\n",
       "    </tr>\n",
       "    <tr>\n",
       "      <th>216690</th>\n",
       "      <td>8aefce5f864d5b47871d34f84a0ff278</td>\n",
       "      <td>2016-03-01 01:24:19</td>\n",
       "      <td>66a1ccf936a2aca1</td>\n",
       "      <td>a</td>\n",
       "      <td>checkin</td>\n",
       "      <td>240.0</td>\n",
       "      <td>d5e063af052ee843</td>\n",
       "      <td>NaN</td>\n",
       "      <td>NaN</td>\n",
       "      <td>NaN</td>\n",
       "    </tr>\n",
       "    <tr>\n",
       "      <th>336491</th>\n",
       "      <td>d7bd30aeabc95a849aafd981cd8c0e6e</td>\n",
       "      <td>2016-03-01 01:25:19</td>\n",
       "      <td>66a1ccf936a2aca1</td>\n",
       "      <td>a</td>\n",
       "      <td>checkin</td>\n",
       "      <td>300.0</td>\n",
       "      <td>d5e063af052ee843</td>\n",
       "      <td>NaN</td>\n",
       "      <td>NaN</td>\n",
       "      <td>NaN</td>\n",
       "    </tr>\n",
       "    <tr>\n",
       "      <th>386296</th>\n",
       "      <td>f7d0c48ac04957bca0a9b04b3fccc42f</td>\n",
       "      <td>2016-03-01 01:25:28</td>\n",
       "      <td>66a1ccf936a2aca1</td>\n",
       "      <td>a</td>\n",
       "      <td>visitPage</td>\n",
       "      <td>NaN</td>\n",
       "      <td>a584b57e451fe5e7</td>\n",
       "      <td>NaN</td>\n",
       "      <td>NaN</td>\n",
       "      <td>NaN</td>\n",
       "    </tr>\n",
       "    <tr>\n",
       "      <th>357979</th>\n",
       "      <td>e5b183f945c95352bf29636390352bc3</td>\n",
       "      <td>2016-03-01 01:25:38</td>\n",
       "      <td>66a1ccf936a2aca1</td>\n",
       "      <td>a</td>\n",
       "      <td>checkin</td>\n",
       "      <td>10.0</td>\n",
       "      <td>a584b57e451fe5e7</td>\n",
       "      <td>NaN</td>\n",
       "      <td>NaN</td>\n",
       "      <td>NaN</td>\n",
       "    </tr>\n",
       "    <tr>\n",
       "      <th>188007</th>\n",
       "      <td>7896a6a25a2854b7a539a581ad505476</td>\n",
       "      <td>2016-03-01 01:26:39</td>\n",
       "      <td>66a1ccf936a2aca1</td>\n",
       "      <td>a</td>\n",
       "      <td>checkin</td>\n",
       "      <td>360.0</td>\n",
       "      <td>d5e063af052ee843</td>\n",
       "      <td>NaN</td>\n",
       "      <td>NaN</td>\n",
       "      <td>NaN</td>\n",
       "    </tr>\n",
       "    <tr>\n",
       "      <th>364000</th>\n",
       "      <td>e991c83ddc5053d09dabf4647d24dd9a</td>\n",
       "      <td>2016-03-01 01:27:39</td>\n",
       "      <td>66a1ccf936a2aca1</td>\n",
       "      <td>a</td>\n",
       "      <td>checkin</td>\n",
       "      <td>420.0</td>\n",
       "      <td>d5e063af052ee843</td>\n",
       "      <td>NaN</td>\n",
       "      <td>NaN</td>\n",
       "      <td>NaN</td>\n",
       "    </tr>\n",
       "    <tr>\n",
       "      <th>133839</th>\n",
       "      <td>561f153def22581fab8ec728cc368d3d</td>\n",
       "      <td>2016-03-01 01:27:57</td>\n",
       "      <td>66a1ccf936a2aca1</td>\n",
       "      <td>a</td>\n",
       "      <td>visitPage</td>\n",
       "      <td>NaN</td>\n",
       "      <td>436addc8e0298e90</td>\n",
       "      <td>NaN</td>\n",
       "      <td>NaN</td>\n",
       "      <td>NaN</td>\n",
       "    </tr>\n",
       "    <tr>\n",
       "      <th>104481</th>\n",
       "      <td>432d255560775fdb80bcbc21d22e5cda</td>\n",
       "      <td>2016-03-01 01:28:06</td>\n",
       "      <td>66a1ccf936a2aca1</td>\n",
       "      <td>a</td>\n",
       "      <td>checkin</td>\n",
       "      <td>10.0</td>\n",
       "      <td>436addc8e0298e90</td>\n",
       "      <td>NaN</td>\n",
       "      <td>NaN</td>\n",
       "      <td>NaN</td>\n",
       "    </tr>\n",
       "    <tr>\n",
       "      <th>242600</th>\n",
       "      <td>9b797c48cadf5c13a8ee99f6d9660a3b</td>\n",
       "      <td>2016-03-01 01:28:16</td>\n",
       "      <td>66a1ccf936a2aca1</td>\n",
       "      <td>a</td>\n",
       "      <td>checkin</td>\n",
       "      <td>20.0</td>\n",
       "      <td>436addc8e0298e90</td>\n",
       "      <td>NaN</td>\n",
       "      <td>NaN</td>\n",
       "      <td>NaN</td>\n",
       "    </tr>\n",
       "    <tr>\n",
       "      <th>274295</th>\n",
       "      <td>afcc509aaa205345b23c60da5accb318</td>\n",
       "      <td>2016-03-01 01:28:26</td>\n",
       "      <td>66a1ccf936a2aca1</td>\n",
       "      <td>a</td>\n",
       "      <td>checkin</td>\n",
       "      <td>30.0</td>\n",
       "      <td>436addc8e0298e90</td>\n",
       "      <td>NaN</td>\n",
       "      <td>NaN</td>\n",
       "      <td>NaN</td>\n",
       "    </tr>\n",
       "    <tr>\n",
       "      <th>24717</th>\n",
       "      <td>0fe391e0a9755b0eab0188b3e594031a</td>\n",
       "      <td>2016-03-01 01:28:37</td>\n",
       "      <td>66a1ccf936a2aca1</td>\n",
       "      <td>a</td>\n",
       "      <td>checkin</td>\n",
       "      <td>40.0</td>\n",
       "      <td>436addc8e0298e90</td>\n",
       "      <td>NaN</td>\n",
       "      <td>NaN</td>\n",
       "      <td>NaN</td>\n",
       "    </tr>\n",
       "    <tr>\n",
       "      <th>288182</th>\n",
       "      <td>b8ac8edfd96a55f592ef052e4c0a35e3</td>\n",
       "      <td>2016-03-01 01:28:47</td>\n",
       "      <td>66a1ccf936a2aca1</td>\n",
       "      <td>a</td>\n",
       "      <td>checkin</td>\n",
       "      <td>50.0</td>\n",
       "      <td>436addc8e0298e90</td>\n",
       "      <td>NaN</td>\n",
       "      <td>NaN</td>\n",
       "      <td>NaN</td>\n",
       "    </tr>\n",
       "    <tr>\n",
       "      <th>104615</th>\n",
       "      <td>434476a0c540564b9faf799bee0f57b4</td>\n",
       "      <td>2016-03-01 01:28:57</td>\n",
       "      <td>66a1ccf936a2aca1</td>\n",
       "      <td>a</td>\n",
       "      <td>visitPage</td>\n",
       "      <td>NaN</td>\n",
       "      <td>7e4ac4e71cfdc3f7</td>\n",
       "      <td>NaN</td>\n",
       "      <td>NaN</td>\n",
       "      <td>NaN</td>\n",
       "    </tr>\n",
       "    <tr>\n",
       "      <th>69863</th>\n",
       "      <td>2cf34d5dca1056bf9faab47081ad28a6</td>\n",
       "      <td>2016-03-01 01:29:07</td>\n",
       "      <td>66a1ccf936a2aca1</td>\n",
       "      <td>a</td>\n",
       "      <td>checkin</td>\n",
       "      <td>10.0</td>\n",
       "      <td>7e4ac4e71cfdc3f7</td>\n",
       "      <td>NaN</td>\n",
       "      <td>NaN</td>\n",
       "      <td>NaN</td>\n",
       "    </tr>\n",
       "    <tr>\n",
       "      <th>213236</th>\n",
       "      <td>88b467a1805e5a018bb34c21df2143d7</td>\n",
       "      <td>2016-03-01 01:29:17</td>\n",
       "      <td>66a1ccf936a2aca1</td>\n",
       "      <td>a</td>\n",
       "      <td>checkin</td>\n",
       "      <td>20.0</td>\n",
       "      <td>7e4ac4e71cfdc3f7</td>\n",
       "      <td>NaN</td>\n",
       "      <td>NaN</td>\n",
       "      <td>NaN</td>\n",
       "    </tr>\n",
       "    <tr>\n",
       "      <th>352219</th>\n",
       "      <td>e1f0cacf2d5051638e8ca3bc333cb328</td>\n",
       "      <td>2016-03-01 01:29:27</td>\n",
       "      <td>66a1ccf936a2aca1</td>\n",
       "      <td>a</td>\n",
       "      <td>checkin</td>\n",
       "      <td>30.0</td>\n",
       "      <td>7e4ac4e71cfdc3f7</td>\n",
       "      <td>NaN</td>\n",
       "      <td>NaN</td>\n",
       "      <td>NaN</td>\n",
       "    </tr>\n",
       "    <tr>\n",
       "      <th>330358</th>\n",
       "      <td>d3c76f276d6553feb7b2b460c3dc1122</td>\n",
       "      <td>2016-03-01 01:29:37</td>\n",
       "      <td>66a1ccf936a2aca1</td>\n",
       "      <td>a</td>\n",
       "      <td>checkin</td>\n",
       "      <td>40.0</td>\n",
       "      <td>7e4ac4e71cfdc3f7</td>\n",
       "      <td>NaN</td>\n",
       "      <td>NaN</td>\n",
       "      <td>NaN</td>\n",
       "    </tr>\n",
       "    <tr>\n",
       "      <th>336939</th>\n",
       "      <td>d8058e70833757fe996a52b4c08a9866</td>\n",
       "      <td>2016-03-01 01:29:47</td>\n",
       "      <td>66a1ccf936a2aca1</td>\n",
       "      <td>a</td>\n",
       "      <td>checkin</td>\n",
       "      <td>50.0</td>\n",
       "      <td>7e4ac4e71cfdc3f7</td>\n",
       "      <td>NaN</td>\n",
       "      <td>NaN</td>\n",
       "      <td>NaN</td>\n",
       "    </tr>\n",
       "    <tr>\n",
       "      <th>369253</th>\n",
       "      <td>ecf7c374566754d5be7e3e2175717342</td>\n",
       "      <td>2016-03-01 01:29:57</td>\n",
       "      <td>66a1ccf936a2aca1</td>\n",
       "      <td>a</td>\n",
       "      <td>checkin</td>\n",
       "      <td>60.0</td>\n",
       "      <td>7e4ac4e71cfdc3f7</td>\n",
       "      <td>NaN</td>\n",
       "      <td>NaN</td>\n",
       "      <td>NaN</td>\n",
       "    </tr>\n",
       "  </tbody>\n",
       "</table>\n",
       "</div>"
      ],
      "text/plain": [
       "                                    uuid           timestamp  \\\n",
       "325025  d054879b4a5e5f9da1540a7a91118894 2016-03-01 01:19:17   \n",
       "314788  c9caef4c00ab56d18f2f10a1e3e5557d 2016-03-01 01:19:38   \n",
       "445     00425c87f40657cea53c79b268f89cb2 2016-03-01 01:19:51   \n",
       "774     007a2ab683465b948273454d16edc10a 2016-03-01 01:20:01   \n",
       "296997  be4d89ccac8351ebad91d8ed9d79f84d 2016-03-01 01:20:11   \n",
       "192645  7b7fb22549755977941090ae6fceafd8 2016-03-01 01:20:20   \n",
       "17611   0b5244ac92f558b283673e03baa9740c 2016-03-01 01:20:29   \n",
       "49765   20147b1f27af50458ce1e376e0c53419 2016-03-01 01:20:39   \n",
       "313450  c8ef25e9042e5857acb2ae453233f528 2016-03-01 01:20:49   \n",
       "385510  f757cbd598bd52e0a487be64c006f70a 2016-03-01 01:20:59   \n",
       "389334  f9cf26bffd19525da389786b5fbd9498 2016-03-01 01:21:09   \n",
       "39749   19a86611fa0957df901edb6fd238409f 2016-03-01 01:21:19   \n",
       "490     004967fdb3875b6db710320a52a32c31 2016-03-01 01:21:49   \n",
       "208232  85819fbc368159a68dd56467632fdd1e 2016-03-01 01:22:19   \n",
       "395625  fde34f4c62e15887940d1c125f929ecd 2016-03-01 01:22:49   \n",
       "236524  979b0dc9d2665c86ae6f6b42e79c83ad 2016-03-01 01:23:19   \n",
       "361402  e7ec66f7a85f5df9baf05f0c75fea1d4 2016-03-01 01:23:49   \n",
       "216690  8aefce5f864d5b47871d34f84a0ff278 2016-03-01 01:24:19   \n",
       "336491  d7bd30aeabc95a849aafd981cd8c0e6e 2016-03-01 01:25:19   \n",
       "386296  f7d0c48ac04957bca0a9b04b3fccc42f 2016-03-01 01:25:28   \n",
       "357979  e5b183f945c95352bf29636390352bc3 2016-03-01 01:25:38   \n",
       "188007  7896a6a25a2854b7a539a581ad505476 2016-03-01 01:26:39   \n",
       "364000  e991c83ddc5053d09dabf4647d24dd9a 2016-03-01 01:27:39   \n",
       "133839  561f153def22581fab8ec728cc368d3d 2016-03-01 01:27:57   \n",
       "104481  432d255560775fdb80bcbc21d22e5cda 2016-03-01 01:28:06   \n",
       "242600  9b797c48cadf5c13a8ee99f6d9660a3b 2016-03-01 01:28:16   \n",
       "274295  afcc509aaa205345b23c60da5accb318 2016-03-01 01:28:26   \n",
       "24717   0fe391e0a9755b0eab0188b3e594031a 2016-03-01 01:28:37   \n",
       "288182  b8ac8edfd96a55f592ef052e4c0a35e3 2016-03-01 01:28:47   \n",
       "104615  434476a0c540564b9faf799bee0f57b4 2016-03-01 01:28:57   \n",
       "69863   2cf34d5dca1056bf9faab47081ad28a6 2016-03-01 01:29:07   \n",
       "213236  88b467a1805e5a018bb34c21df2143d7 2016-03-01 01:29:17   \n",
       "352219  e1f0cacf2d5051638e8ca3bc333cb328 2016-03-01 01:29:27   \n",
       "330358  d3c76f276d6553feb7b2b460c3dc1122 2016-03-01 01:29:37   \n",
       "336939  d8058e70833757fe996a52b4c08a9866 2016-03-01 01:29:47   \n",
       "369253  ecf7c374566754d5be7e3e2175717342 2016-03-01 01:29:57   \n",
       "\n",
       "              session_id group            action  checkin           page_id  \\\n",
       "325025  66a1ccf936a2aca1     a  searchResultPage      NaN  b15e97730eaf187a   \n",
       "314788  66a1ccf936a2aca1     a  searchResultPage      NaN  2a047288b1d046c5   \n",
       "445     66a1ccf936a2aca1     a         visitPage      NaN  9676425891e0715a   \n",
       "774     66a1ccf936a2aca1     a           checkin     10.0  9676425891e0715a   \n",
       "296997  66a1ccf936a2aca1     a           checkin     20.0  9676425891e0715a   \n",
       "192645  66a1ccf936a2aca1     a         visitPage      NaN  d5e063af052ee843   \n",
       "17611   66a1ccf936a2aca1     a           checkin     10.0  d5e063af052ee843   \n",
       "49765   66a1ccf936a2aca1     a           checkin     20.0  d5e063af052ee843   \n",
       "313450  66a1ccf936a2aca1     a           checkin     30.0  d5e063af052ee843   \n",
       "385510  66a1ccf936a2aca1     a           checkin     40.0  d5e063af052ee843   \n",
       "389334  66a1ccf936a2aca1     a           checkin     50.0  d5e063af052ee843   \n",
       "39749   66a1ccf936a2aca1     a           checkin     60.0  d5e063af052ee843   \n",
       "490     66a1ccf936a2aca1     a           checkin     90.0  d5e063af052ee843   \n",
       "208232  66a1ccf936a2aca1     a           checkin    120.0  d5e063af052ee843   \n",
       "395625  66a1ccf936a2aca1     a           checkin    150.0  d5e063af052ee843   \n",
       "236524  66a1ccf936a2aca1     a           checkin    180.0  d5e063af052ee843   \n",
       "361402  66a1ccf936a2aca1     a           checkin    210.0  d5e063af052ee843   \n",
       "216690  66a1ccf936a2aca1     a           checkin    240.0  d5e063af052ee843   \n",
       "336491  66a1ccf936a2aca1     a           checkin    300.0  d5e063af052ee843   \n",
       "386296  66a1ccf936a2aca1     a         visitPage      NaN  a584b57e451fe5e7   \n",
       "357979  66a1ccf936a2aca1     a           checkin     10.0  a584b57e451fe5e7   \n",
       "188007  66a1ccf936a2aca1     a           checkin    360.0  d5e063af052ee843   \n",
       "364000  66a1ccf936a2aca1     a           checkin    420.0  d5e063af052ee843   \n",
       "133839  66a1ccf936a2aca1     a         visitPage      NaN  436addc8e0298e90   \n",
       "104481  66a1ccf936a2aca1     a           checkin     10.0  436addc8e0298e90   \n",
       "242600  66a1ccf936a2aca1     a           checkin     20.0  436addc8e0298e90   \n",
       "274295  66a1ccf936a2aca1     a           checkin     30.0  436addc8e0298e90   \n",
       "24717   66a1ccf936a2aca1     a           checkin     40.0  436addc8e0298e90   \n",
       "288182  66a1ccf936a2aca1     a           checkin     50.0  436addc8e0298e90   \n",
       "104615  66a1ccf936a2aca1     a         visitPage      NaN  7e4ac4e71cfdc3f7   \n",
       "69863   66a1ccf936a2aca1     a           checkin     10.0  7e4ac4e71cfdc3f7   \n",
       "213236  66a1ccf936a2aca1     a           checkin     20.0  7e4ac4e71cfdc3f7   \n",
       "352219  66a1ccf936a2aca1     a           checkin     30.0  7e4ac4e71cfdc3f7   \n",
       "330358  66a1ccf936a2aca1     a           checkin     40.0  7e4ac4e71cfdc3f7   \n",
       "336939  66a1ccf936a2aca1     a           checkin     50.0  7e4ac4e71cfdc3f7   \n",
       "369253  66a1ccf936a2aca1     a           checkin     60.0  7e4ac4e71cfdc3f7   \n",
       "\n",
       "        n_results  result_position  clicked_through  \n",
       "325025       20.0              NaN              0.0  \n",
       "314788       20.0              NaN              1.0  \n",
       "445           NaN              1.0              NaN  \n",
       "774           NaN              1.0              NaN  \n",
       "296997        NaN              1.0              NaN  \n",
       "192645        NaN              NaN              NaN  \n",
       "17611         NaN              NaN              NaN  \n",
       "49765         NaN              NaN              NaN  \n",
       "313450        NaN              NaN              NaN  \n",
       "385510        NaN              NaN              NaN  \n",
       "389334        NaN              NaN              NaN  \n",
       "39749         NaN              NaN              NaN  \n",
       "490           NaN              NaN              NaN  \n",
       "208232        NaN              NaN              NaN  \n",
       "395625        NaN              NaN              NaN  \n",
       "236524        NaN              NaN              NaN  \n",
       "361402        NaN              NaN              NaN  \n",
       "216690        NaN              NaN              NaN  \n",
       "336491        NaN              NaN              NaN  \n",
       "386296        NaN              NaN              NaN  \n",
       "357979        NaN              NaN              NaN  \n",
       "188007        NaN              NaN              NaN  \n",
       "364000        NaN              NaN              NaN  \n",
       "133839        NaN              NaN              NaN  \n",
       "104481        NaN              NaN              NaN  \n",
       "242600        NaN              NaN              NaN  \n",
       "274295        NaN              NaN              NaN  \n",
       "24717         NaN              NaN              NaN  \n",
       "288182        NaN              NaN              NaN  \n",
       "104615        NaN              NaN              NaN  \n",
       "69863         NaN              NaN              NaN  \n",
       "213236        NaN              NaN              NaN  \n",
       "352219        NaN              NaN              NaN  \n",
       "330358        NaN              NaN              NaN  \n",
       "336939        NaN              NaN              NaN  \n",
       "369253        NaN              NaN              NaN  "
      ]
     },
     "execution_count": 50,
     "metadata": {},
     "output_type": "execute_result"
    }
   ],
   "source": [
    "activity_df[activity_df[\"session_id\"] == \"66a1ccf936a2aca1\"].sort_values(by=\"timestamp\")"
   ]
  },
  {
   "cell_type": "markdown",
   "metadata": {},
   "source": [
    "So the overall clickthrough rate in our dataset is 0.2421. "
   ]
  },
  {
   "cell_type": "markdown",
   "metadata": {},
   "source": [
    "#### What is the daily overall clickthrough rate?"
   ]
  },
  {
   "cell_type": "code",
   "execution_count": 129,
   "metadata": {
    "collapsed": false
   },
   "outputs": [],
   "source": [
    "activity_grouped_day = activity_df.groupby(activity_df[\"timestamp\"].dt.date)"
   ]
  },
  {
   "cell_type": "code",
   "execution_count": 130,
   "metadata": {
    "collapsed": false
   },
   "outputs": [
    {
     "data": {
      "text/plain": [
       "timestamp\n",
       "2016-03-01    0.237016\n",
       "2016-03-02    0.236421\n",
       "2016-03-03    0.243554\n",
       "2016-03-04    0.246378\n",
       "2016-03-05    0.245370\n",
       "2016-03-06    0.251062\n",
       "2016-03-07    0.240754\n",
       "2016-03-08    0.239400\n",
       "dtype: float64"
      ]
     },
     "execution_count": 130,
     "metadata": {},
     "output_type": "execute_result"
    }
   ],
   "source": [
    "clickthrough_rate_by_day = activity_grouped_day.apply(get_clickthrough_rate)\n",
    "clickthrough_rate_by_day"
   ]
  },
  {
   "cell_type": "markdown",
   "metadata": {},
   "source": [
    "No we can see what is the daily overall clickthrough rate and how it varies. Let's see some statitistics values."
   ]
  },
  {
   "cell_type": "code",
   "execution_count": 131,
   "metadata": {
    "collapsed": false
   },
   "outputs": [
    {
     "data": {
      "text/plain": [
       "count    8.000000\n",
       "mean     0.242494\n",
       "std      0.005034\n",
       "min      0.236421\n",
       "25%      0.238804\n",
       "50%      0.242154\n",
       "75%      0.245622\n",
       "max      0.251062\n",
       "dtype: float64"
      ]
     },
     "execution_count": 131,
     "metadata": {},
     "output_type": "execute_result"
    }
   ],
   "source": [
    "clickthrough_rate_by_day.describe()"
   ]
  },
  {
   "cell_type": "code",
   "execution_count": 132,
   "metadata": {
    "collapsed": false
   },
   "outputs": [
    {
     "data": {
      "text/plain": [
       "<matplotlib.axes._subplots.AxesSubplot at 0x127994630>"
      ]
     },
     "execution_count": 132,
     "metadata": {},
     "output_type": "execute_result"
    },
    {
     "data": {
      "image/png": "[encoded data removed]",
      "text/plain": [
       "<matplotlib.figure.Figure at 0x12686e588>"
      ]
     },
     "metadata": {},
     "output_type": "display_data"
    }
   ],
   "source": [
    "clickthrough_rate_by_day.plot(figsize=(10, 6), ylim=(0, 0.3))"
   ]
  },
  {
   "cell_type": "markdown",
   "metadata": {},
   "source": [
    "It varies a bit from day to day but in general it keeps close to the mean with rather small standard deviation. "
   ]
  },
  {
   "cell_type": "markdown",
   "metadata": {},
   "source": [
    "#### How does the overall clickthrough rate vary between the groups?"
   ]
  },
  {
   "cell_type": "code",
   "execution_count": 55,
   "metadata": {
    "collapsed": false
   },
   "outputs": [],
   "source": [
    "activity_grouped_group = activity_df.groupby(\"group\")"
   ]
  },
  {
   "cell_type": "code",
   "execution_count": 56,
   "metadata": {
    "collapsed": false
   },
   "outputs": [
    {
     "data": {
      "text/plain": [
       "group\n",
       "a    0.285817\n",
       "b    0.151387\n",
       "dtype: float64"
      ]
     },
     "execution_count": 56,
     "metadata": {},
     "output_type": "execute_result"
    }
   ],
   "source": [
    "activity_grouped_group.apply(get_clickthrough_rate)"
   ]
  },
  {
   "cell_type": "markdown",
   "metadata": {},
   "source": [
    "For group `a` the overall clickthrough rate is 0.2858 and for group `b` it is 0.1514. So it is much lower in group `b`."
   ]
  },
  {
   "cell_type": "markdown",
   "metadata": {
    "collapsed": true
   },
   "source": [
    "### 4.2 Which results do people tend to try first? How does it change day-to-day?\n",
    "\n",
    "By the results people tend to try first we mean here what is the dominating search result position that user selects to open after performing query.\n",
    "\n",
    "To answer that question we first need to select user logs with atribute `action` value `visitPage`. For these we will find information about which results do people tend to try first. Let's start by selecting `visitPage` user logs."
   ]
  },
  {
   "cell_type": "code",
   "execution_count": 61,
   "metadata": {
    "collapsed": false
   },
   "outputs": [
    {
     "data": {
      "text/html": [
       "<div>\n",
       "<table border=\"1\" class=\"dataframe\">\n",
       "  <thead>\n",
       "    <tr style=\"text-align: right;\">\n",
       "      <th></th>\n",
       "      <th>uuid</th>\n",
       "      <th>timestamp</th>\n",
       "      <th>session_id</th>\n",
       "      <th>group</th>\n",
       "      <th>action</th>\n",
       "      <th>checkin</th>\n",
       "      <th>page_id</th>\n",
       "      <th>n_results</th>\n",
       "      <th>result_position</th>\n",
       "      <th>clicked_through</th>\n",
       "    </tr>\n",
       "  </thead>\n",
       "  <tbody>\n",
       "    <tr>\n",
       "      <th>21</th>\n",
       "      <td>0002d29d932e539993a6b1720340a993</td>\n",
       "      <td>2016-03-01 01:03:16</td>\n",
       "      <td>b2b413b1432226f8</td>\n",
       "      <td>a</td>\n",
       "      <td>visitPage</td>\n",
       "      <td>NaN</td>\n",
       "      <td>96113a4c8ea50856</td>\n",
       "      <td>NaN</td>\n",
       "      <td>3.0</td>\n",
       "      <td>NaN</td>\n",
       "    </tr>\n",
       "    <tr>\n",
       "      <th>29</th>\n",
       "      <td>0003edb9988255be80e800a83c8bcbe6</td>\n",
       "      <td>2016-03-02 17:29:04</td>\n",
       "      <td>7d3304f88a44cb78</td>\n",
       "      <td>a</td>\n",
       "      <td>visitPage</td>\n",
       "      <td>NaN</td>\n",
       "      <td>cde6f03a9e537a06</td>\n",
       "      <td>NaN</td>\n",
       "      <td>1.0</td>\n",
       "      <td>NaN</td>\n",
       "    </tr>\n",
       "    <tr>\n",
       "      <th>57</th>\n",
       "      <td>000892cfabc25873b2e5b9da2ef8d734</td>\n",
       "      <td>2016-03-06 10:47:25</td>\n",
       "      <td>761d4fbd6aa1c867</td>\n",
       "      <td>a</td>\n",
       "      <td>visitPage</td>\n",
       "      <td>NaN</td>\n",
       "      <td>44012022574420e3</td>\n",
       "      <td>NaN</td>\n",
       "      <td>1.0</td>\n",
       "      <td>NaN</td>\n",
       "    </tr>\n",
       "    <tr>\n",
       "      <th>77</th>\n",
       "      <td>000b3be6a1d651518d622641ad3de358</td>\n",
       "      <td>2016-03-03 20:50:07</td>\n",
       "      <td>92891186ca96fd5d</td>\n",
       "      <td>a</td>\n",
       "      <td>visitPage</td>\n",
       "      <td>NaN</td>\n",
       "      <td>2e4cc16c7886447e</td>\n",
       "      <td>NaN</td>\n",
       "      <td>1.0</td>\n",
       "      <td>NaN</td>\n",
       "    </tr>\n",
       "    <tr>\n",
       "      <th>100</th>\n",
       "      <td>000e24fe8b6f5efa909bf7b7f940cbc3</td>\n",
       "      <td>2016-03-03 03:39:48</td>\n",
       "      <td>fbf64f1d9b0558bf</td>\n",
       "      <td>a</td>\n",
       "      <td>visitPage</td>\n",
       "      <td>NaN</td>\n",
       "      <td>9288e20d598e94c2</td>\n",
       "      <td>NaN</td>\n",
       "      <td>NaN</td>\n",
       "      <td>NaN</td>\n",
       "    </tr>\n",
       "  </tbody>\n",
       "</table>\n",
       "</div>"
      ],
      "text/plain": [
       "                                 uuid           timestamp        session_id  \\\n",
       "21   0002d29d932e539993a6b1720340a993 2016-03-01 01:03:16  b2b413b1432226f8   \n",
       "29   0003edb9988255be80e800a83c8bcbe6 2016-03-02 17:29:04  7d3304f88a44cb78   \n",
       "57   000892cfabc25873b2e5b9da2ef8d734 2016-03-06 10:47:25  761d4fbd6aa1c867   \n",
       "77   000b3be6a1d651518d622641ad3de358 2016-03-03 20:50:07  92891186ca96fd5d   \n",
       "100  000e24fe8b6f5efa909bf7b7f940cbc3 2016-03-03 03:39:48  fbf64f1d9b0558bf   \n",
       "\n",
       "    group     action  checkin           page_id  n_results  result_position  \\\n",
       "21      a  visitPage      NaN  96113a4c8ea50856        NaN              3.0   \n",
       "29      a  visitPage      NaN  cde6f03a9e537a06        NaN              1.0   \n",
       "57      a  visitPage      NaN  44012022574420e3        NaN              1.0   \n",
       "77      a  visitPage      NaN  2e4cc16c7886447e        NaN              1.0   \n",
       "100     a  visitPage      NaN  9288e20d598e94c2        NaN              NaN   \n",
       "\n",
       "     clicked_through  \n",
       "21               NaN  \n",
       "29               NaN  \n",
       "57               NaN  \n",
       "77               NaN  \n",
       "100              NaN  "
      ]
     },
     "execution_count": 61,
     "metadata": {},
     "output_type": "execute_result"
    }
   ],
   "source": [
    "visit_page_df = activity_df[activity_df[\"action\"] == \"visitPage\"]\n",
    "visit_page_df.head()"
   ]
  },
  {
   "cell_type": "markdown",
   "metadata": {},
   "source": [
    "#### Which results do people tend to try first?\n",
    "\n",
    "To answer let's analyse `result_position` attribute values for opened pages."
   ]
  },
  {
   "cell_type": "code",
   "execution_count": 81,
   "metadata": {
    "collapsed": false
   },
   "outputs": [
    {
     "data": {
      "text/plain": [
       "count    33776.000000\n",
       "mean         2.353772\n",
       "std          3.060881\n",
       "min          1.000000\n",
       "25%          1.000000\n",
       "50%          1.000000\n",
       "75%          2.000000\n",
       "max         30.000000\n",
       "Name: result_position, dtype: float64"
      ]
     },
     "execution_count": 81,
     "metadata": {},
     "output_type": "execute_result"
    }
   ],
   "source": [
    "visit_page_df[\"result_position\"].describe()"
   ]
  },
  {
   "cell_type": "code",
   "execution_count": 82,
   "metadata": {
    "collapsed": false
   },
   "outputs": [
    {
     "data": {
      "text/plain": [
       "<matplotlib.axes._subplots.AxesSubplot at 0x128682320>"
      ]
     },
     "execution_count": 82,
     "metadata": {},
     "output_type": "execute_result"
    },
    {
     "data": {
      "image/png": "[encoded data removed]",
      "text/plain": [
       "<matplotlib.figure.Figure at 0x128ba6748>"
      ]
     },
     "metadata": {},
     "output_type": "display_data"
    }
   ],
   "source": [
    "visit_page_df[\"result_position\"].hist(bins=30, figsize=(10, 6))"
   ]
  },
  {
   "cell_type": "markdown",
   "metadata": {},
   "source": [
    "We can see that overall users by far tend to try first result first. The distribution is positevely skewed, so even though the mean here is 2.35, the better central tendency measure will be median value which is as we expected 1. "
   ]
  },
  {
   "cell_type": "markdown",
   "metadata": {},
   "source": [
    "#### How does results people tend to try first change day-to-day?\n",
    "\n",
    "To answer this question we will group our vist page data logs by date and check how `result_position` values behave from day to day."
   ]
  },
  {
   "cell_type": "code",
   "execution_count": 110,
   "metadata": {
    "collapsed": true
   },
   "outputs": [],
   "source": [
    "visit_page_grouped = visit_page_df.groupby(visit_page_df[\"timestamp\"].dt.date)"
   ]
  },
  {
   "cell_type": "markdown",
   "metadata": {},
   "source": [
    "Let's first analyse the mean for each day."
   ]
  },
  {
   "cell_type": "code",
   "execution_count": 111,
   "metadata": {
    "collapsed": false,
    "scrolled": false
   },
   "outputs": [
    {
     "data": {
      "text/plain": [
       "timestamp\n",
       "2016-03-01    2.285040\n",
       "2016-03-02    2.368892\n",
       "2016-03-03    2.439841\n",
       "2016-03-04    2.248388\n",
       "2016-03-05    2.349441\n",
       "2016-03-06    2.341346\n",
       "2016-03-07    2.365614\n",
       "2016-03-08    2.421235\n",
       "Name: result_position, dtype: float64"
      ]
     },
     "execution_count": 111,
     "metadata": {},
     "output_type": "execute_result"
    }
   ],
   "source": [
    "visit_page_grouped[\"result_position\"].mean()"
   ]
  },
  {
   "cell_type": "code",
   "execution_count": 112,
   "metadata": {
    "collapsed": false
   },
   "outputs": [
    {
     "data": {
      "text/plain": [
       "<matplotlib.axes._subplots.AxesSubplot at 0x127e56208>"
      ]
     },
     "execution_count": 112,
     "metadata": {},
     "output_type": "execute_result"
    },
    {
     "data": {
      "image/png": "[encoded data removed]",
      "text/plain": [
       "<matplotlib.figure.Figure at 0x12ac70080>"
      ]
     },
     "metadata": {},
     "output_type": "display_data"
    }
   ],
   "source": [
    "visit_page_grouped[\"result_position\"].mean().plot(figsize=(10, 6), ylim=(0, 3.0))"
   ]
  },
  {
   "cell_type": "markdown",
   "metadata": {},
   "source": [
    "The mean result users tend to try first on average changes very little from day to day.\n",
    "\n",
    "Let's also see the daily median value of opened search result position."
   ]
  },
  {
   "cell_type": "code",
   "execution_count": 113,
   "metadata": {
    "collapsed": false
   },
   "outputs": [
    {
     "data": {
      "text/plain": [
       "timestamp\n",
       "2016-03-01    1.0\n",
       "2016-03-02    1.0\n",
       "2016-03-03    1.0\n",
       "2016-03-04    1.0\n",
       "2016-03-05    1.0\n",
       "2016-03-06    1.0\n",
       "2016-03-07    1.0\n",
       "2016-03-08    1.0\n",
       "Name: result_position, dtype: float64"
      ]
     },
     "execution_count": 113,
     "metadata": {},
     "output_type": "execute_result"
    }
   ],
   "source": [
    "visit_page_grouped[\"result_position\"].median()"
   ]
  },
  {
   "cell_type": "code",
   "execution_count": 114,
   "metadata": {
    "collapsed": false
   },
   "outputs": [
    {
     "data": {
      "text/plain": [
       "<matplotlib.axes._subplots.AxesSubplot at 0x12a569b70>"
      ]
     },
     "execution_count": 114,
     "metadata": {},
     "output_type": "execute_result"
    },
    {
     "data": {
      "image/png": "[encoded data removed]",
      "text/plain": [
       "<matplotlib.figure.Figure at 0x12a8479b0>"
      ]
     },
     "metadata": {},
     "output_type": "display_data"
    }
   ],
   "source": [
    "visit_page_grouped[\"result_position\"].median().plot(figsize=(10, 6), ylim=(0, 2.0))"
   ]
  },
  {
   "cell_type": "markdown",
   "metadata": {},
   "source": [
    "The median value - clearly a better meassure in skewed distribution like this one - is stable from day to day and equal to 1 meaning that people in general tend to open first result in search page."
   ]
  },
  {
   "cell_type": "markdown",
   "metadata": {},
   "source": [
    "### 4.3 What is the daily overall zero results rate? How does the overall zero results rate vary between groups?\n",
    "\n",
    "We define here overall zero results rate as the proportion of searches that yielded 0 results."
   ]
  },
  {
   "cell_type": "markdown",
   "metadata": {},
   "source": [
    "#### What is the overall zero results rate?"
   ]
  },
  {
   "cell_type": "code",
   "execution_count": 124,
   "metadata": {
    "collapsed": true
   },
   "outputs": [],
   "source": [
    "def get_zeroresults_rate(df):\n",
    "    return len(df[(df[\"action\"] == \"searchResultPage\") & (df[\"n_results\"] == 0)]) / len(df[(df[\"action\"] == \"searchResultPage\")])"
   ]
  },
  {
   "cell_type": "code",
   "execution_count": 128,
   "metadata": {
    "collapsed": false
   },
   "outputs": [
    {
     "data": {
      "text/plain": [
       "0.1849286839277566"
      ]
     },
     "execution_count": 128,
     "metadata": {},
     "output_type": "execute_result"
    }
   ],
   "source": [
    "get_zeroresults_rate(activity_df)"
   ]
  },
  {
   "cell_type": "markdown",
   "metadata": {},
   "source": [
    "The overall zero results rate is 0.1849 meaning that 18% of all searches ends with zero results."
   ]
  },
  {
   "cell_type": "markdown",
   "metadata": {},
   "source": [
    "#### What is our daily overall zero results rate?"
   ]
  },
  {
   "cell_type": "code",
   "execution_count": 133,
   "metadata": {
    "collapsed": true
   },
   "outputs": [],
   "source": [
    "activity_grouped_day = activity_df.groupby(activity_df[\"timestamp\"].dt.date)"
   ]
  },
  {
   "cell_type": "code",
   "execution_count": 139,
   "metadata": {
    "collapsed": false
   },
   "outputs": [
    {
     "data": {
      "text/plain": [
       "timestamp\n",
       "2016-03-01    0.188248\n",
       "2016-03-02    0.190378\n",
       "2016-03-03    0.180064\n",
       "2016-03-04    0.182021\n",
       "2016-03-05    0.185337\n",
       "2016-03-06    0.176374\n",
       "2016-03-07    0.182278\n",
       "2016-03-08    0.193990\n",
       "dtype: float64"
      ]
     },
     "execution_count": 139,
     "metadata": {},
     "output_type": "execute_result"
    }
   ],
   "source": [
    "zeroresults_rate_by_day = activity_grouped_day.apply(get_zeroresults_rate)\n",
    "zeroresults_rate_by_day"
   ]
  },
  {
   "cell_type": "markdown",
   "metadata": {},
   "source": [
    "Above are daily overall zero results rates. Let's see some statictics and plot of overall zero results rate daily values."
   ]
  },
  {
   "cell_type": "code",
   "execution_count": 137,
   "metadata": {
    "collapsed": false
   },
   "outputs": [
    {
     "data": {
      "text/plain": [
       "count    8.000000\n",
       "mean     0.184836\n",
       "std      0.005797\n",
       "min      0.176374\n",
       "25%      0.181532\n",
       "50%      0.183807\n",
       "75%      0.188780\n",
       "max      0.193990\n",
       "dtype: float64"
      ]
     },
     "execution_count": 137,
     "metadata": {},
     "output_type": "execute_result"
    }
   ],
   "source": [
    "zeroresults_rate_by_day.describe()"
   ]
  },
  {
   "cell_type": "code",
   "execution_count": 138,
   "metadata": {
    "collapsed": false
   },
   "outputs": [
    {
     "data": {
      "text/plain": [
       "<matplotlib.axes._subplots.AxesSubplot at 0x13406a860>"
      ]
     },
     "execution_count": 138,
     "metadata": {},
     "output_type": "execute_result"
    },
    {
     "data": {
      "image/png": "[encoded data removed]",
      "text/plain": [
       "<matplotlib.figure.Figure at 0x13407d2b0>"
      ]
     },
     "metadata": {},
     "output_type": "display_data"
    }
   ],
   "source": [
    "zeroresults_rate_by_day.plot(figsize=(10, 6), ylim=(0, 0.3))"
   ]
  },
  {
   "cell_type": "markdown",
   "metadata": {
    "collapsed": true
   },
   "source": [
    "The mean value for daily overall zero results rate for 0.184836 and from day to day it varies rather minimally wit hstandard deviation of 0.005. This can also be seen on plot of daily overall zero results rate. "
   ]
  },
  {
   "cell_type": "markdown",
   "metadata": {},
   "source": [
    "#### How does the overall zero results rate vary between groups?"
   ]
  },
  {
   "cell_type": "code",
   "execution_count": 142,
   "metadata": {
    "collapsed": true
   },
   "outputs": [],
   "source": [
    "activity_grouped_group = activity_df.groupby(\"group\")"
   ]
  },
  {
   "cell_type": "code",
   "execution_count": 143,
   "metadata": {
    "collapsed": false,
    "scrolled": true
   },
   "outputs": [
    {
     "data": {
      "text/plain": [
       "group\n",
       "a    0.184300\n",
       "b    0.186233\n",
       "dtype: float64"
      ]
     },
     "execution_count": 143,
     "metadata": {},
     "output_type": "execute_result"
    }
   ],
   "source": [
    "activity_grouped_group.apply(get_zeroresults_rate)"
   ]
  },
  {
   "cell_type": "markdown",
   "metadata": {},
   "source": [
    "The difference between the overall zero results rate for group `a` and `b` is minimal: `a` has 0.1843 value and `b` has 0.1862 value."
   ]
  },
  {
   "cell_type": "code",
   "execution_count": null,
   "metadata": {
    "collapsed": true
   },
   "outputs": [],
   "source": []
  },
  {
   "cell_type": "code",
   "execution_count": null,
   "metadata": {
    "collapsed": true
   },
   "outputs": [],
   "source": []
  },
  {
   "cell_type": "code",
   "execution_count": null,
   "metadata": {
    "collapsed": true
   },
   "outputs": [],
   "source": []
  },
  {
   "cell_type": "code",
   "execution_count": null,
   "metadata": {
    "collapsed": true
   },
   "outputs": [],
   "source": []
  },
  {
   "cell_type": "code",
   "execution_count": null,
   "metadata": {
    "collapsed": true
   },
   "outputs": [],
   "source": []
  }
 ],
 "metadata": {
  "kernelspec": {
   "display_name": "Python 3",
   "language": "python",
   "name": "python3"
  },
  "language_info": {
   "codemirror_mode": {
    "name": "ipython",
    "version": 3
   },
   "file_extension": ".py",
   "mimetype": "text/x-python",
   "name": "python",
   "nbconvert_exporter": "python",
   "pygments_lexer": "ipython3",
   "version": "3.6.3"
  }
 },
 "nbformat": 4,
 "nbformat_minor": 2
}
