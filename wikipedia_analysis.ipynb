{
 "cells": [
  {
   "cell_type": "markdown",
   "metadata": {},
   "source": [
    "# Wikipedia user activity analysis\n",
    "\n",
    "In this project we will analyze Wikipedia users activity logs. The analysis is based on Wikimedia Foundation data analysis task that can be found [here](https://github.com/wikimedia-research/Discovery-Hiring-Analyst-2016)."
   ]
  },
  {
   "cell_type": "markdown",
   "metadata": {},
   "source": [
    "## 1. Frame the problem\n",
    "\n",
    "The analysed dataset contains event logging data which is used by Wikimedia to track a variety of performance and usage metrics to help them build various metrics and make data-driven strategic decisions.\n",
    "\n",
    "The analysis has five main aims - as defined by Wikimedia:\n",
    "1. What is our daily overall clickthrough rate (the proportion of search sessions where the user clicked on one of the results displayed)? How does it vary between the groups?\n",
    "2. Which results do people tend to try first? How does it change day-to-day?\n",
    "3. What is our daily overall zero results rate (the proportion of searches that yielded 0 results)? How does it vary between the groups?\n",
    "4. Let session length be approximately the time between the first event and the last event in a session. Choose a variable from the dataset and describe its relationship to session length. Visualize the relationship.\n",
    "5. Summarize your findings in an executive summary.\n",
    "\n",
    "That means that we will build two metrics needed to answer these questions: clickthrough rate and zero results rate."
   ]
  },
  {
   "cell_type": "markdown",
   "metadata": {},
   "source": [
    "## 2. Get the data\n",
    "\n",
    "We will use a dataset published by Wikimedia Foundation that can be found [here](https://github.com/wikimedia-research/Discovery-Hiring-Analyst-2016).\n",
    "\n",
    "The dataset comes from a tracking schema that is used in Wikimedia Foundation for assessing user satisfaction. Desktop users are randomly sampled to be anonymously tracked by this schema to estimate how long users stay on the pages they visit. The dataset contains over a week of event logging data.\n",
    "\n",
    "\n",
    "| Column          | Value   | Description                                                                       |\n",
    "|:----------------|:--------|:----------------------------------------------------------------------------------|\n",
    "| uuid            | string  | Universally unique identifier (UUID) for backend event handling.                  |\n",
    "| timestamp       | integer | The date and time (UTC) of the event, formatted as YYYYMMDDhhmmss.                |\n",
    "| session_id      | string  | A unique ID identifying individual sessions.                                      |\n",
    "| group           | string  | A label (\"a\" or \"b\").                                     |\n",
    "| action          | string  | Identifies in which the event was created. See below.                             |\n",
    "| checkin         | integer | How many seconds the page has been open for.                                      |\n",
    "| page_id         | string  | A unique identifier for correlating page visits and check-ins.                    |\n",
    "| n_results       | integer | Number of hits returned to the user. Only shown for searchResultPage events.      |\n",
    "| result_position | integer | The position of the visited page's link on the search engine results page (SERP). |\n",
    "\n",
    "\n",
    "An event's action field can have following values:\n",
    "* `searchResultPage`: when a new search is performed and the user is shown a SERP.\n",
    "* `visitPage`: when the user clicks a link in the results.\n",
    "* `checkin`: when the user has remained on the page for a pre-specified amount of time.\n",
    "\n",
    "Example session can look like this:\n",
    "\n",
    "|uuid                             |      timestamp|session_id       |group |action           | checkin|page_id          | n_results| result_position|\n",
    "|:--------------------------------|:--------------|:----------------|:-----|:----------------|-------:|:----------------|---------:|---------------:|\n",
    "|4f699f344515554a9371fe4ecb5b9ebc | 20160305195246|001e61b5477f5efc |b     |searchResultPage |      NA|1b341d0ab80eb77e |         7|              NA|\n",
    "|759d1dc9966353c2a36846a61125f286 | 20160305195302|001e61b5477f5efc |b     |visitPage        |      NA|5a6a1f75124cbf03 |        NA|               1|\n",
    "|77efd5a00a5053c4a713fbe5a48dbac4 | 20160305195312|001e61b5477f5efc |b     |checkin          |      10|5a6a1f75124cbf03 |        NA|               1|\n",
    "|42420284ad895ec4bcb1f000b949dd5e | 20160305195322|001e61b5477f5efc |b     |checkin          |      20|5a6a1f75124cbf03 |        NA|               1|\n",
    "|8ffd82c27a355a56882b5860993bd308 | 20160305195332|001e61b5477f5efc |b     |checkin          |      30|5a6a1f75124cbf03 |        NA|               1|\n",
    "|2988d11968b25b29add3a851bec2fe02 | 20160305195342|001e61b5477f5efc |b     |checkin          |      40|5a6a1f75124cbf03 |        NA|               1|\n",
    "\n",
    "This user's search query returned 7 results, they clicked on the first result, and stayed on the page between 40 and 50 seconds."
   ]
  },
  {
   "cell_type": "markdown",
   "metadata": {},
   "source": [
    "Let's load the data."
   ]
  },
  {
   "cell_type": "code",
   "execution_count": 199,
   "metadata": {
    "collapsed": true
   },
   "outputs": [],
   "source": [
    "import pandas as pd"
   ]
  },
  {
   "cell_type": "code",
   "execution_count": 200,
   "metadata": {
    "collapsed": true
   },
   "outputs": [],
   "source": [
    "activity_df = pd.read_csv(\"datasets/events_log.csv\")"
   ]
  },
  {
   "cell_type": "markdown",
   "metadata": {},
   "source": [
    "Now we can check how the data looks like."
   ]
  },
  {
   "cell_type": "code",
   "execution_count": 236,
   "metadata": {
    "collapsed": false
   },
   "outputs": [
    {
     "data": {
      "text/html": [
       "<div>\n",
       "<table border=\"1\" class=\"dataframe\">\n",
       "  <thead>\n",
       "    <tr style=\"text-align: right;\">\n",
       "      <th></th>\n",
       "      <th>uuid</th>\n",
       "      <th>timestamp</th>\n",
       "      <th>session_id</th>\n",
       "      <th>group</th>\n",
       "      <th>action</th>\n",
       "      <th>checkin</th>\n",
       "      <th>page_id</th>\n",
       "      <th>n_results</th>\n",
       "      <th>result_position</th>\n",
       "    </tr>\n",
       "  </thead>\n",
       "  <tbody>\n",
       "    <tr>\n",
       "      <th>0</th>\n",
       "      <td>00000736167c507e8ec225bd9e71f9e5</td>\n",
       "      <td>2.016030e+13</td>\n",
       "      <td>78245c2c3fba013a</td>\n",
       "      <td>b</td>\n",
       "      <td>searchResultPage</td>\n",
       "      <td>NaN</td>\n",
       "      <td>cbeb66d1bc1f1bc2</td>\n",
       "      <td>5.0</td>\n",
       "      <td>NaN</td>\n",
       "    </tr>\n",
       "    <tr>\n",
       "      <th>1</th>\n",
       "      <td>00000c69fe345268935463abbfa5d5b3</td>\n",
       "      <td>2.016031e+13</td>\n",
       "      <td>c559c3be98dca8a4</td>\n",
       "      <td>a</td>\n",
       "      <td>searchResultPage</td>\n",
       "      <td>NaN</td>\n",
       "      <td>eb658e8722aad674</td>\n",
       "      <td>10.0</td>\n",
       "      <td>NaN</td>\n",
       "    </tr>\n",
       "    <tr>\n",
       "      <th>2</th>\n",
       "      <td>00003bfdab715ee59077a3670331b787</td>\n",
       "      <td>2.016030e+13</td>\n",
       "      <td>760bf89817ce4b08</td>\n",
       "      <td>a</td>\n",
       "      <td>checkin</td>\n",
       "      <td>30.0</td>\n",
       "      <td>f99a9fc1f7fdd21e</td>\n",
       "      <td>NaN</td>\n",
       "      <td>NaN</td>\n",
       "    </tr>\n",
       "    <tr>\n",
       "      <th>3</th>\n",
       "      <td>0000465cd7c35ad2bdeafec953e08c1a</td>\n",
       "      <td>2.016030e+13</td>\n",
       "      <td>fb905603d31b2071</td>\n",
       "      <td>a</td>\n",
       "      <td>checkin</td>\n",
       "      <td>60.0</td>\n",
       "      <td>e5626962a6939a75</td>\n",
       "      <td>NaN</td>\n",
       "      <td>10.0</td>\n",
       "    </tr>\n",
       "    <tr>\n",
       "      <th>4</th>\n",
       "      <td>000050cbb4ef5b42b16c4d2cf69e6358</td>\n",
       "      <td>2.016030e+13</td>\n",
       "      <td>c2bf5e5172a892dc</td>\n",
       "      <td>a</td>\n",
       "      <td>checkin</td>\n",
       "      <td>30.0</td>\n",
       "      <td>787dd6a4c371cbf9</td>\n",
       "      <td>NaN</td>\n",
       "      <td>NaN</td>\n",
       "    </tr>\n",
       "    <tr>\n",
       "      <th>5</th>\n",
       "      <td>0000a6af2baa5af1be2431e84cb01da1</td>\n",
       "      <td>2.016030e+13</td>\n",
       "      <td>f6840a9614c527ad</td>\n",
       "      <td>a</td>\n",
       "      <td>checkin</td>\n",
       "      <td>180.0</td>\n",
       "      <td>6fb7b9ea87012975</td>\n",
       "      <td>NaN</td>\n",
       "      <td>NaN</td>\n",
       "    </tr>\n",
       "    <tr>\n",
       "      <th>6</th>\n",
       "      <td>0000cd61e11d5371adf974703cd4f7e7</td>\n",
       "      <td>2.016030e+13</td>\n",
       "      <td>51f4d3b6a8688e56</td>\n",
       "      <td>a</td>\n",
       "      <td>checkin</td>\n",
       "      <td>240.0</td>\n",
       "      <td>8ad97e7c85c58e80</td>\n",
       "      <td>NaN</td>\n",
       "      <td>NaN</td>\n",
       "    </tr>\n",
       "    <tr>\n",
       "      <th>7</th>\n",
       "      <td>000104fe220a5675a270420cd6d4d4ac</td>\n",
       "      <td>2.016030e+13</td>\n",
       "      <td>485eabe5374f09e4</td>\n",
       "      <td>b</td>\n",
       "      <td>searchResultPage</td>\n",
       "      <td>NaN</td>\n",
       "      <td>4da9a64232ce947b</td>\n",
       "      <td>15.0</td>\n",
       "      <td>NaN</td>\n",
       "    </tr>\n",
       "    <tr>\n",
       "      <th>8</th>\n",
       "      <td>00012e37b74c59a8911514c894402406</td>\n",
       "      <td>2.016030e+13</td>\n",
       "      <td>91174a537d79a0c7</td>\n",
       "      <td>a</td>\n",
       "      <td>checkin</td>\n",
       "      <td>180.0</td>\n",
       "      <td>dfdff179047ea086</td>\n",
       "      <td>NaN</td>\n",
       "      <td>1.0</td>\n",
       "    </tr>\n",
       "    <tr>\n",
       "      <th>9</th>\n",
       "      <td>000145fbe6915c7c8acb3a43537ad048</td>\n",
       "      <td>2.016030e+13</td>\n",
       "      <td>a795756dbad3f61f</td>\n",
       "      <td>b</td>\n",
       "      <td>checkin</td>\n",
       "      <td>150.0</td>\n",
       "      <td>ec0bad0075f48b43</td>\n",
       "      <td>NaN</td>\n",
       "      <td>1.0</td>\n",
       "    </tr>\n",
       "    <tr>\n",
       "      <th>10</th>\n",
       "      <td>00015c90c82354fba4a40a832a67bb76</td>\n",
       "      <td>2.016031e+13</td>\n",
       "      <td>9822d8a8dc66a02b</td>\n",
       "      <td>a</td>\n",
       "      <td>searchResultPage</td>\n",
       "      <td>NaN</td>\n",
       "      <td>0f58bcfc65454f23</td>\n",
       "      <td>20.0</td>\n",
       "      <td>NaN</td>\n",
       "    </tr>\n",
       "    <tr>\n",
       "      <th>11</th>\n",
       "      <td>0001885d490057dc95294a5bafc7ad50</td>\n",
       "      <td>2.016030e+13</td>\n",
       "      <td>e8391bf94cb3a61d</td>\n",
       "      <td>b</td>\n",
       "      <td>checkin</td>\n",
       "      <td>30.0</td>\n",
       "      <td>db5c1b8998d12efc</td>\n",
       "      <td>NaN</td>\n",
       "      <td>1.0</td>\n",
       "    </tr>\n",
       "    <tr>\n",
       "      <th>12</th>\n",
       "      <td>0001e32066ce5aceafc0c16c4bdf7cab</td>\n",
       "      <td>2.016031e+13</td>\n",
       "      <td>58ebf0bc66ff11a6</td>\n",
       "      <td>a</td>\n",
       "      <td>searchResultPage</td>\n",
       "      <td>NaN</td>\n",
       "      <td>e80fe6b7a68c4f98</td>\n",
       "      <td>9.0</td>\n",
       "      <td>NaN</td>\n",
       "    </tr>\n",
       "    <tr>\n",
       "      <th>13</th>\n",
       "      <td>0001e65d9b7251f5832c1cb755828945</td>\n",
       "      <td>2.016031e+13</td>\n",
       "      <td>09a1a7b7e0a8baf9</td>\n",
       "      <td>a</td>\n",
       "      <td>checkin</td>\n",
       "      <td>10.0</td>\n",
       "      <td>c45598e7c5fd0e77</td>\n",
       "      <td>NaN</td>\n",
       "      <td>1.0</td>\n",
       "    </tr>\n",
       "    <tr>\n",
       "      <th>14</th>\n",
       "      <td>0002064eac5d5f15b4323a05c7777fc5</td>\n",
       "      <td>2.016030e+13</td>\n",
       "      <td>10cd7b0b03363402</td>\n",
       "      <td>a</td>\n",
       "      <td>checkin</td>\n",
       "      <td>30.0</td>\n",
       "      <td>9122525c2a12ea12</td>\n",
       "      <td>NaN</td>\n",
       "      <td>1.0</td>\n",
       "    </tr>\n",
       "    <tr>\n",
       "      <th>15</th>\n",
       "      <td>00025ad0bcbd552b8b0e7c73454ca872</td>\n",
       "      <td>2.016030e+13</td>\n",
       "      <td>056145b0bb0d8b0a</td>\n",
       "      <td>a</td>\n",
       "      <td>checkin</td>\n",
       "      <td>10.0</td>\n",
       "      <td>e5509b31fb1687f8</td>\n",
       "      <td>NaN</td>\n",
       "      <td>NaN</td>\n",
       "    </tr>\n",
       "    <tr>\n",
       "      <th>16</th>\n",
       "      <td>0002659697995ba88ae225e3e305c7a1</td>\n",
       "      <td>2.016031e+13</td>\n",
       "      <td>6e1c76dbf9888424</td>\n",
       "      <td>a</td>\n",
       "      <td>searchResultPage</td>\n",
       "      <td>NaN</td>\n",
       "      <td>23008081eb9ce774</td>\n",
       "      <td>20.0</td>\n",
       "      <td>NaN</td>\n",
       "    </tr>\n",
       "    <tr>\n",
       "      <th>17</th>\n",
       "      <td>000275928bca59ed9dfe2d1632abff96</td>\n",
       "      <td>2.016031e+13</td>\n",
       "      <td>92fd49056475cb70</td>\n",
       "      <td>a</td>\n",
       "      <td>searchResultPage</td>\n",
       "      <td>NaN</td>\n",
       "      <td>ce9955db5752f9d5</td>\n",
       "      <td>20.0</td>\n",
       "      <td>NaN</td>\n",
       "    </tr>\n",
       "    <tr>\n",
       "      <th>18</th>\n",
       "      <td>00028f919c0459b1a8fe77f7e8e6688c</td>\n",
       "      <td>2.016030e+13</td>\n",
       "      <td>59103e2d505358e6</td>\n",
       "      <td>a</td>\n",
       "      <td>checkin</td>\n",
       "      <td>20.0</td>\n",
       "      <td>73d7b7fd66d4a44d</td>\n",
       "      <td>NaN</td>\n",
       "      <td>1.0</td>\n",
       "    </tr>\n",
       "    <tr>\n",
       "      <th>19</th>\n",
       "      <td>0002bf5db22858b4ac693605263a642b</td>\n",
       "      <td>2.016031e+13</td>\n",
       "      <td>a59c62d571a7bc08</td>\n",
       "      <td>a</td>\n",
       "      <td>checkin</td>\n",
       "      <td>50.0</td>\n",
       "      <td>7467fdaba9fbdc3a</td>\n",
       "      <td>NaN</td>\n",
       "      <td>5.0</td>\n",
       "    </tr>\n",
       "  </tbody>\n",
       "</table>\n",
       "</div>"
      ],
      "text/plain": [
       "                                uuid     timestamp        session_id group  \\\n",
       "0   00000736167c507e8ec225bd9e71f9e5  2.016030e+13  78245c2c3fba013a     b   \n",
       "1   00000c69fe345268935463abbfa5d5b3  2.016031e+13  c559c3be98dca8a4     a   \n",
       "2   00003bfdab715ee59077a3670331b787  2.016030e+13  760bf89817ce4b08     a   \n",
       "3   0000465cd7c35ad2bdeafec953e08c1a  2.016030e+13  fb905603d31b2071     a   \n",
       "4   000050cbb4ef5b42b16c4d2cf69e6358  2.016030e+13  c2bf5e5172a892dc     a   \n",
       "5   0000a6af2baa5af1be2431e84cb01da1  2.016030e+13  f6840a9614c527ad     a   \n",
       "6   0000cd61e11d5371adf974703cd4f7e7  2.016030e+13  51f4d3b6a8688e56     a   \n",
       "7   000104fe220a5675a270420cd6d4d4ac  2.016030e+13  485eabe5374f09e4     b   \n",
       "8   00012e37b74c59a8911514c894402406  2.016030e+13  91174a537d79a0c7     a   \n",
       "9   000145fbe6915c7c8acb3a43537ad048  2.016030e+13  a795756dbad3f61f     b   \n",
       "10  00015c90c82354fba4a40a832a67bb76  2.016031e+13  9822d8a8dc66a02b     a   \n",
       "11  0001885d490057dc95294a5bafc7ad50  2.016030e+13  e8391bf94cb3a61d     b   \n",
       "12  0001e32066ce5aceafc0c16c4bdf7cab  2.016031e+13  58ebf0bc66ff11a6     a   \n",
       "13  0001e65d9b7251f5832c1cb755828945  2.016031e+13  09a1a7b7e0a8baf9     a   \n",
       "14  0002064eac5d5f15b4323a05c7777fc5  2.016030e+13  10cd7b0b03363402     a   \n",
       "15  00025ad0bcbd552b8b0e7c73454ca872  2.016030e+13  056145b0bb0d8b0a     a   \n",
       "16  0002659697995ba88ae225e3e305c7a1  2.016031e+13  6e1c76dbf9888424     a   \n",
       "17  000275928bca59ed9dfe2d1632abff96  2.016031e+13  92fd49056475cb70     a   \n",
       "18  00028f919c0459b1a8fe77f7e8e6688c  2.016030e+13  59103e2d505358e6     a   \n",
       "19  0002bf5db22858b4ac693605263a642b  2.016031e+13  a59c62d571a7bc08     a   \n",
       "\n",
       "              action  checkin           page_id  n_results  result_position  \n",
       "0   searchResultPage      NaN  cbeb66d1bc1f1bc2        5.0              NaN  \n",
       "1   searchResultPage      NaN  eb658e8722aad674       10.0              NaN  \n",
       "2            checkin     30.0  f99a9fc1f7fdd21e        NaN              NaN  \n",
       "3            checkin     60.0  e5626962a6939a75        NaN             10.0  \n",
       "4            checkin     30.0  787dd6a4c371cbf9        NaN              NaN  \n",
       "5            checkin    180.0  6fb7b9ea87012975        NaN              NaN  \n",
       "6            checkin    240.0  8ad97e7c85c58e80        NaN              NaN  \n",
       "7   searchResultPage      NaN  4da9a64232ce947b       15.0              NaN  \n",
       "8            checkin    180.0  dfdff179047ea086        NaN              1.0  \n",
       "9            checkin    150.0  ec0bad0075f48b43        NaN              1.0  \n",
       "10  searchResultPage      NaN  0f58bcfc65454f23       20.0              NaN  \n",
       "11           checkin     30.0  db5c1b8998d12efc        NaN              1.0  \n",
       "12  searchResultPage      NaN  e80fe6b7a68c4f98        9.0              NaN  \n",
       "13           checkin     10.0  c45598e7c5fd0e77        NaN              1.0  \n",
       "14           checkin     30.0  9122525c2a12ea12        NaN              1.0  \n",
       "15           checkin     10.0  e5509b31fb1687f8        NaN              NaN  \n",
       "16  searchResultPage      NaN  23008081eb9ce774       20.0              NaN  \n",
       "17  searchResultPage      NaN  ce9955db5752f9d5       20.0              NaN  \n",
       "18           checkin     20.0  73d7b7fd66d4a44d        NaN              1.0  \n",
       "19           checkin     50.0  7467fdaba9fbdc3a        NaN              5.0  "
      ]
     },
     "execution_count": 236,
     "metadata": {},
     "output_type": "execute_result"
    }
   ],
   "source": [
    "activity.head(20)"
   ]
  },
  {
   "cell_type": "markdown",
   "metadata": {},
   "source": [
    "We can see that we have several features for each recorded session. Some of them have text values and some are numerical. Let's dig deeper into that dataset structure and properties."
   ]
  },
  {
   "cell_type": "code",
   "execution_count": 202,
   "metadata": {
    "collapsed": false
   },
   "outputs": [
    {
     "name": "stdout",
     "output_type": "stream",
     "text": [
      "<class 'pandas.core.frame.DataFrame'>\n",
      "RangeIndex: 400165 entries, 0 to 400164\n",
      "Data columns (total 9 columns):\n",
      "uuid               400165 non-null object\n",
      "timestamp          400165 non-null float64\n",
      "session_id         400165 non-null object\n",
      "group              400165 non-null object\n",
      "action             400165 non-null object\n",
      "checkin            223824 non-null float64\n",
      "page_id            400165 non-null object\n",
      "n_results          136234 non-null float64\n",
      "result_position    230482 non-null float64\n",
      "dtypes: float64(4), object(5)\n",
      "memory usage: 27.5+ MB\n"
     ]
    }
   ],
   "source": [
    "activity_df.info()"
   ]
  },
  {
   "cell_type": "markdown",
   "metadata": {},
   "source": [
    "We can see that dataset contains 400165 event logging data records in total.\n",
    "\n",
    "In case of `checkin`, `n_results` and `result_position` we deal with missing values. In case of `checkin` feature `NaN` values are result of users's `action` value: some `action` types does not have `checkin` values. We will leave it the way it is. Similar in case of `n_results`: only searchResultPage `action` value sessions have `n_results` values different than `NaN`. Again we will leave it as it is. And similar situation with `result_position`: `NaN` values mean here that the event log was not a result of opening a page from search result.\n",
    "\n",
    "`uuid`, `session_id`, `group`, `action`, `page_id` attributes have text values.\n",
    "\n",
    "`timestamp`, `checkin`, `n_results`, `result_position` are numerical attributes.\n",
    "\n",
    "Actually `timestamp` attribute values should be converted to `datetime` data format for easier use like timestamps comparison. Let's do it then. \n"
   ]
  },
  {
   "cell_type": "code",
   "execution_count": 203,
   "metadata": {
    "collapsed": false
   },
   "outputs": [],
   "source": [
    "date_str = activity_df[\"timestamp\"].astype(int).astype(str)\n",
    "activity_df[\"timestamp\"] = pd.to_datetime(date_str, format=\"%Y%m%d%H%M%S\")"
   ]
  },
  {
   "cell_type": "code",
   "execution_count": 204,
   "metadata": {
    "collapsed": false
   },
   "outputs": [
    {
     "name": "stdout",
     "output_type": "stream",
     "text": [
      "<class 'pandas.core.frame.DataFrame'>\n",
      "RangeIndex: 400165 entries, 0 to 400164\n",
      "Data columns (total 9 columns):\n",
      "uuid               400165 non-null object\n",
      "timestamp          400165 non-null datetime64[ns]\n",
      "session_id         400165 non-null object\n",
      "group              400165 non-null object\n",
      "action             400165 non-null object\n",
      "checkin            223824 non-null float64\n",
      "page_id            400165 non-null object\n",
      "n_results          136234 non-null float64\n",
      "result_position    230482 non-null float64\n",
      "dtypes: datetime64[ns](1), float64(3), object(5)\n",
      "memory usage: 27.5+ MB\n"
     ]
    }
   ],
   "source": [
    "activity_df.info()"
   ]
  },
  {
   "cell_type": "markdown",
   "metadata": {},
   "source": [
    "Now the data looks correct and ready for further analysis.\n",
    "\n",
    "Let's now dig deeper into numerical attributes values."
   ]
  },
  {
   "cell_type": "code",
   "execution_count": 205,
   "metadata": {
    "collapsed": false
   },
   "outputs": [
    {
     "data": {
      "text/html": [
       "<div>\n",
       "<table border=\"1\" class=\"dataframe\">\n",
       "  <thead>\n",
       "    <tr style=\"text-align: right;\">\n",
       "      <th></th>\n",
       "      <th>checkin</th>\n",
       "      <th>n_results</th>\n",
       "      <th>result_position</th>\n",
       "    </tr>\n",
       "  </thead>\n",
       "  <tbody>\n",
       "    <tr>\n",
       "      <th>count</th>\n",
       "      <td>223824.000000</td>\n",
       "      <td>136234.000000</td>\n",
       "      <td>230482.000000</td>\n",
       "    </tr>\n",
       "    <tr>\n",
       "      <th>mean</th>\n",
       "      <td>97.190382</td>\n",
       "      <td>13.210109</td>\n",
       "      <td>2.992798</td>\n",
       "    </tr>\n",
       "    <tr>\n",
       "      <th>std</th>\n",
       "      <td>104.593714</td>\n",
       "      <td>13.271104</td>\n",
       "      <td>38.557292</td>\n",
       "    </tr>\n",
       "    <tr>\n",
       "      <th>min</th>\n",
       "      <td>10.000000</td>\n",
       "      <td>0.000000</td>\n",
       "      <td>1.000000</td>\n",
       "    </tr>\n",
       "    <tr>\n",
       "      <th>25%</th>\n",
       "      <td>20.000000</td>\n",
       "      <td>2.000000</td>\n",
       "      <td>1.000000</td>\n",
       "    </tr>\n",
       "    <tr>\n",
       "      <th>50%</th>\n",
       "      <td>50.000000</td>\n",
       "      <td>20.000000</td>\n",
       "      <td>1.000000</td>\n",
       "    </tr>\n",
       "    <tr>\n",
       "      <th>75%</th>\n",
       "      <td>150.000000</td>\n",
       "      <td>20.000000</td>\n",
       "      <td>2.000000</td>\n",
       "    </tr>\n",
       "    <tr>\n",
       "      <th>max</th>\n",
       "      <td>420.000000</td>\n",
       "      <td>500.000000</td>\n",
       "      <td>4103.000000</td>\n",
       "    </tr>\n",
       "  </tbody>\n",
       "</table>\n",
       "</div>"
      ],
      "text/plain": [
       "             checkin      n_results  result_position\n",
       "count  223824.000000  136234.000000    230482.000000\n",
       "mean       97.190382      13.210109         2.992798\n",
       "std       104.593714      13.271104        38.557292\n",
       "min        10.000000       0.000000         1.000000\n",
       "25%        20.000000       2.000000         1.000000\n",
       "50%        50.000000      20.000000         1.000000\n",
       "75%       150.000000      20.000000         2.000000\n",
       "max       420.000000     500.000000      4103.000000"
      ]
     },
     "execution_count": 205,
     "metadata": {},
     "output_type": "execute_result"
    }
   ],
   "source": [
    "activity_df.describe()"
   ]
  },
  {
   "cell_type": "markdown",
   "metadata": {},
   "source": [
    "`checkin` attribute mean is meaningless taking into account how these values are gathered. But we can check its maximal value - the longest session took 420 seconds. \n",
    "\n",
    "`n_results` attribute mean value of 13.21 means that on average user gets that many results per search. Of course maximal value is very large, reaching 500. Later on we will analyse this attribute distribution to make more out of this data.\n",
    "\n",
    "`result_position` mean value tells us that the link that user was looking for was on average the third in search results (not so good scenario). However the median value tells us it was first (good scenario). Also the max value here seems to be an error. Also here we will later on dig into this attribute distribution to get to know what is going on here."
   ]
  },
  {
   "cell_type": "markdown",
   "metadata": {},
   "source": [
    "Let's see values our categorical attributes can have. \n",
    "\n",
    "Of course `uuid`, `session_id` and `page_id` have unique values. `group` and `action` are categorical."
   ]
  },
  {
   "cell_type": "code",
   "execution_count": 222,
   "metadata": {
    "collapsed": false
   },
   "outputs": [
    {
     "data": {
      "text/plain": [
       "array(['b', 'a'], dtype=object)"
      ]
     },
     "execution_count": 222,
     "metadata": {},
     "output_type": "execute_result"
    }
   ],
   "source": [
    "activity_df[\"group\"].unique()"
   ]
  },
  {
   "cell_type": "code",
   "execution_count": 223,
   "metadata": {
    "collapsed": false
   },
   "outputs": [
    {
     "data": {
      "text/plain": [
       "array(['searchResultPage', 'checkin', 'visitPage'], dtype=object)"
      ]
     },
     "execution_count": 223,
     "metadata": {},
     "output_type": "execute_result"
    }
   ],
   "source": [
    "activity_df[\"action\"].unique()"
   ]
  },
  {
   "cell_type": "markdown",
   "metadata": {},
   "source": [
    "All looks good. We are ready for data exploration."
   ]
  },
  {
   "cell_type": "markdown",
   "metadata": {},
   "source": [
    "## 3. Explore the data\n",
    "\n",
    "We will perform some basic exploratory analysis to see how the data behaves in general sense, what are main tendencies or what are the relations between variables. We will also build our metrics here and try to answer our project questions (posed at the begining of the analysis)."
   ]
  },
  {
   "cell_type": "markdown",
   "metadata": {},
   "source": [
    "Let's look at numerical values distributions."
   ]
  },
  {
   "cell_type": "code",
   "execution_count": 209,
   "metadata": {
    "collapsed": true
   },
   "outputs": [],
   "source": [
    "%matplotlib inline \n",
    "import matplotlib.pyplot as plt"
   ]
  },
  {
   "cell_type": "code",
   "execution_count": 210,
   "metadata": {
    "collapsed": false
   },
   "outputs": [
    {
     "data": {
      "text/plain": [
       "array([[<matplotlib.axes._subplots.AxesSubplot object at 0x1481993c8>,\n",
       "        <matplotlib.axes._subplots.AxesSubplot object at 0x129773f28>],\n",
       "       [<matplotlib.axes._subplots.AxesSubplot object at 0x12a07e5f8>,\n",
       "        <matplotlib.axes._subplots.AxesSubplot object at 0x12073cda0>]], dtype=object)"
      ]
     },
     "execution_count": 210,
     "metadata": {},
     "output_type": "execute_result"
    },
    {
     "data": {
      "image/png": "[encoded data removed]",
      "text/plain": [
       "<matplotlib.figure.Figure at 0x132430400>"
      ]
     },
     "metadata": {},
     "output_type": "display_data"
    }
   ],
   "source": [
    "activity_df.hist(bins=20, figsize=(15, 10))"
   ]
  },
  {
   "cell_type": "markdown",
   "metadata": {},
   "source": [
    "Looking at `checkin` values - which tell us how many seconds the page has been open for - we see that the vast majority of the distribution is concentrated aroung 0-100 secodns values. Only around 8000 of pages reachech 400 seconds sessions. The distribution looks really realitistic.\n",
    "\n",
    "`n_results` (number of search hits returned to the user) distribution looks suspicious. As we mentioned earlier it is low likely that user will get 500 hits after the query or even if it is likely for some query it looks like outlier that we should get rid of before further analysis. Let's see how many large values like that we have. To classify as outlier let's use statistical rule: outlier if value is greater than 75% quantile value plus 1.5 of interquantile range."
   ]
  },
  {
   "cell_type": "code",
   "execution_count": 211,
   "metadata": {
    "collapsed": false
   },
   "outputs": [
    {
     "data": {
      "text/plain": [
       "38.0"
      ]
     },
     "execution_count": 211,
     "metadata": {},
     "output_type": "execute_result"
    }
   ],
   "source": [
    "iqr_n_results = activity_df[\"n_results\"].quantile(0.75) - activity_df[\"n_results\"].quantile(0.25)\n",
    "outlier_threshold_n_results = activity_df[\"n_results\"].quantile(0.75) + iqr_n_results\n",
    "outlier_threshold_n_results"
   ]
  },
  {
   "cell_type": "code",
   "execution_count": 212,
   "metadata": {
    "collapsed": false
   },
   "outputs": [
    {
     "data": {
      "text/plain": [
       "360"
      ]
     },
     "execution_count": 212,
     "metadata": {},
     "output_type": "execute_result"
    }
   ],
   "source": [
    "len(activity_df[activity_df[\"n_results\"] > outlier_threshold_n_results])"
   ]
  },
  {
   "cell_type": "markdown",
   "metadata": {},
   "source": [
    "We see that we have only - considering 400165 data records - 360 values above our outlier threshold which stretch our distribution to the right. The best thing for further analysis will be droping these outlier data records from our dataset. We also need to remember to keep `NaN` values here since they are also informative."
   ]
  },
  {
   "cell_type": "code",
   "execution_count": 213,
   "metadata": {
    "collapsed": false
   },
   "outputs": [
    {
     "data": {
      "text/plain": [
       "399805"
      ]
     },
     "execution_count": 213,
     "metadata": {},
     "output_type": "execute_result"
    }
   ],
   "source": [
    "import numpy as np\n",
    "\n",
    "activity_df = activity_df[(activity_df[\"n_results\"] <= outlier_threshold) | (activity_df[\"n_results\"].isnull())]\n",
    "len(activity_df)"
   ]
  },
  {
   "cell_type": "markdown",
   "metadata": {},
   "source": [
    "Now it is time to look at `result_position` (the position of the visited page's link on the search engine results page ) distribution. As we saw previously its max value is 4103 and the distribution on the plot looks unrealistic. Either these value is an error or it is really unlikely outlier. Let's repeat the procedure - detecting outliers in the distribution - we did for `n_results`."
   ]
  },
  {
   "cell_type": "code",
   "execution_count": 214,
   "metadata": {
    "collapsed": false
   },
   "outputs": [
    {
     "data": {
      "text/plain": [
       "3.0"
      ]
     },
     "execution_count": 214,
     "metadata": {},
     "output_type": "execute_result"
    }
   ],
   "source": [
    "iqr_result_position = activity_df[\"result_position\"].quantile(0.75) - activity_df[\"result_position\"].quantile(0.25)\n",
    "outlier_threshold_result_position = activity_df[\"result_position\"].quantile(0.75) + iqr_result_position\n",
    "outlier_threshold_result_position"
   ]
  },
  {
   "cell_type": "markdown",
   "metadata": {},
   "source": [
    "Here our IQR based threshold is really small - that would result in large number of values being discarder. Let's then be really non-restrictive here and set threshold value to be 50. We are talking about the position of the visited page's link on the search engine results page. Chances for it to be more then 40 are really small. Let's see how small."
   ]
  },
  {
   "cell_type": "code",
   "execution_count": 215,
   "metadata": {
    "collapsed": false
   },
   "outputs": [
    {
     "data": {
      "text/plain": [
       "940"
      ]
     },
     "execution_count": 215,
     "metadata": {},
     "output_type": "execute_result"
    }
   ],
   "source": [
    "manual_outlier_threshold = 30\n",
    "len(activity_df[activity_df[\"result_position\"] > manual_outlier_threshold])"
   ]
  },
  {
   "cell_type": "markdown",
   "metadata": {},
   "source": [
    "There are only 940 data records with values of `result_position` above 30 among 400165 data records. Probability of getting these values is 0.002 - very low probability. That means that for the sake of data clarity we can drop these outlier results."
   ]
  },
  {
   "cell_type": "code",
   "execution_count": 216,
   "metadata": {
    "collapsed": false
   },
   "outputs": [
    {
     "data": {
      "text/plain": [
       "398865"
      ]
     },
     "execution_count": 216,
     "metadata": {},
     "output_type": "execute_result"
    }
   ],
   "source": [
    "activity_df = activity_df[(activity_df[\"result_position\"] <= manual_outlier_threshold) | (activity_df[\"result_position\"].isnull())]\n",
    "len(activity_df)"
   ]
  },
  {
   "cell_type": "markdown",
   "metadata": {},
   "source": [
    "Now all looks good. Let's again look at our numerical attributes distributions."
   ]
  },
  {
   "cell_type": "code",
   "execution_count": 217,
   "metadata": {
    "collapsed": false
   },
   "outputs": [
    {
     "data": {
      "text/plain": [
       "array([[<matplotlib.axes._subplots.AxesSubplot object at 0x14ebe5ba8>,\n",
       "        <matplotlib.axes._subplots.AxesSubplot object at 0x13bc2ef60>],\n",
       "       [<matplotlib.axes._subplots.AxesSubplot object at 0x14f425cc0>,\n",
       "        <matplotlib.axes._subplots.AxesSubplot object at 0x14d6af160>]], dtype=object)"
      ]
     },
     "execution_count": 217,
     "metadata": {},
     "output_type": "execute_result"
    },
    {
     "data": {
      "image/png": "[encoded data removed]",
      "text/plain": [
       "<matplotlib.figure.Figure at 0x12422a588>"
      ]
     },
     "metadata": {},
     "output_type": "display_data"
    }
   ],
   "source": [
    "activity_df.hist(bins=40, figsize=(15, 10))"
   ]
  },
  {
   "cell_type": "markdown",
   "metadata": {},
   "source": [
    "Now we are able to tell something more about our numerical attributes distributions. `n_results` (the number of hits returned to the user.) histogram, previously unreadable, now shows clearly what is going on. We see that vast majority of user searches get 20 results. It seems that data is somehow capped at this point - maybe by search meachanism - to that value which is indicated by this large peak in the middle of the distribution. This could be checked with engineers who created data logging mechanism - why is that happening?\n",
    "\n",
    "Also we can see that there is quite a lot of searches resulting in one result. That could mean that the user looke for something really specific and search was so specific that it returned only one answer. The question to ask here would be whether it was the answer the user was looking for - namely whether she or he clicked it. This could be checked later on.\n",
    "\n",
    "There are also in-between values. On one hand there are search results where user's query returned more than one but less then 20 results. And that is perfectly normal for searches which are less specific. On the other hand there are searches which resulted in more than 20 results. And there are around few hundreds of them meaning that they are somehow strange why they are happening so rarely or at all if it turned out that search results are in fact capped at max 20 results."
   ]
  },
  {
   "cell_type": "markdown",
   "metadata": {},
   "source": [
    "Going back to `result_position` - it now looks clear and seems to be fine. We can see that most of searches ends up with user clicking on the first link and if not the first five results are next to choose. Searches with clicked results of above result number 5 of the result list are marginal in number. That tells us that users find what they are looking for right in the to of their search result page. That is really impressive."
   ]
  },
  {
   "cell_type": "markdown",
   "metadata": {},
   "source": [
    "To finish this part of exploration we can also check our categorical attributes distributions."
   ]
  },
  {
   "cell_type": "code",
   "execution_count": 224,
   "metadata": {
    "collapsed": false
   },
   "outputs": [
    {
     "data": {
      "text/plain": [
       "<matplotlib.axes._subplots.AxesSubplot at 0x15aab4588>"
      ]
     },
     "execution_count": 224,
     "metadata": {},
     "output_type": "execute_result"
    },
    {
     "data": {
      "image/png": "[encoded data removed]",
      "text/plain": [
       "<matplotlib.figure.Figure at 0x15aabe1d0>"
      ]
     },
     "metadata": {},
     "output_type": "display_data"
    }
   ],
   "source": [
    "activity_df[\"group\"].value_counts().plot(kind='bar')"
   ]
  },
  {
   "cell_type": "markdown",
   "metadata": {},
   "source": [
    "We can see that vast majority of users belong to group A (300,000 vs. 100,000). So probably group B is experiment test group."
   ]
  },
  {
   "cell_type": "code",
   "execution_count": 225,
   "metadata": {
    "collapsed": false
   },
   "outputs": [
    {
     "data": {
      "text/plain": [
       "<matplotlib.axes._subplots.AxesSubplot at 0x15aa804e0>"
      ]
     },
     "execution_count": 225,
     "metadata": {},
     "output_type": "execute_result"
    },
    {
     "data": {
      "image/png": "[encoded data removed]",
      "text/plain": [
       "<matplotlib.figure.Figure at 0x158acb860>"
      ]
     },
     "metadata": {},
     "output_type": "display_data"
    }
   ],
   "source": [
    "activity_df[\"action\"].value_counts().plot(kind='bar')"
   ]
  },
  {
   "cell_type": "markdown",
   "metadata": {},
   "source": [
    "Let's see what is going on in `action` (when the user has remained on the page for a pre-specified amount of time) attribute distribution. We have here kind of obvious fact that the majority of the user logs will be `checkin`  value (when the user has remained on the page for a pre-specified amount of time). Users spend most of the time reading the Wikipedia articles. More surprising can be quite a lot of `searchResultPage` (when a new search is performed and the user is shown a SERP). That means that users also use Wikipedia search feature really actively. However there is really low number of `visitPage` events (when the user clicks a link in the results). Theoretically every search result page view could end up clicking on one of the result. However since number of `visitPage` events is much lower comparing to `searchResultPage` means there are a lot of searches that does not end with clicking on any of the results - probably refining the query anr running search again. The question that could be asked here is how large is the number of searches which does not result in user clicking on any of the result. That could be infered indirectly by checking the difference between `searchResultPage` events number and `visitPage`. Let's do it."
   ]
  },
  {
   "cell_type": "code",
   "execution_count": 230,
   "metadata": {
    "collapsed": false
   },
   "outputs": [
    {
     "data": {
      "text/plain": [
       "checkin             223187\n",
       "searchResultPage    135874\n",
       "visitPage            39804\n",
       "Name: action, dtype: int64"
      ]
     },
     "execution_count": 230,
     "metadata": {},
     "output_type": "execute_result"
    }
   ],
   "source": [
    "val_counts = activity_df[\"action\"].value_counts()\n",
    "val_counts"
   ]
  },
  {
   "cell_type": "code",
   "execution_count": 233,
   "metadata": {
    "collapsed": false
   },
   "outputs": [
    {
     "data": {
      "text/plain": [
       "96070"
      ]
     },
     "execution_count": 233,
     "metadata": {},
     "output_type": "execute_result"
    }
   ],
   "source": [
    "no_visit_count = val_counts[\"searchResultPage\"] - val_counts[\"visitPage\"]\n",
    "no_visit_count"
   ]
  },
  {
   "cell_type": "code",
   "execution_count": 235,
   "metadata": {
    "collapsed": false
   },
   "outputs": [
    {
     "data": {
      "text/plain": [
       "70.705212181874387"
      ]
     },
     "execution_count": 235,
     "metadata": {},
     "output_type": "execute_result"
    }
   ],
   "source": [
    "no_visit_percent = no_visit_count / val_counts[\"searchResultPage\"] * 100\n",
    "no_visit_percent"
   ]
  },
  {
   "cell_type": "markdown",
   "metadata": {},
   "source": [
    "That would mean that 96070 out of 135874 `searchResultPage` did not end with `visitPage` event meaning that 70% of all searches end up with not finding what the user was looking for and either droping the search or repeating the search with more detailed or modified query. That, comparing to above analysis of `result_position` attribute values is not so optimistic. All in all it means that if after searching something on Wikipedia user finds correct result and clicks on results page link, the result is most likely in the top 5 links. However in 70% of search cases user does not click any of returned result. That is not so effective as it looked before. We could further analyse this problem by searching for such (multiple failed searches) patterns in user logs events or use this value as one of the metrics we will construct to measure users behavior. Will focus on it a bit later in this analysis."
   ]
  },
  {
   "cell_type": "code",
   "execution_count": null,
   "metadata": {
    "collapsed": true
   },
   "outputs": [],
   "source": []
  },
  {
   "cell_type": "code",
   "execution_count": null,
   "metadata": {
    "collapsed": true
   },
   "outputs": [],
   "source": []
  },
  {
   "cell_type": "code",
   "execution_count": null,
   "metadata": {
    "collapsed": true
   },
   "outputs": [],
   "source": []
  },
  {
   "cell_type": "code",
   "execution_count": null,
   "metadata": {
    "collapsed": true
   },
   "outputs": [],
   "source": []
  }
 ],
 "metadata": {
  "kernelspec": {
   "display_name": "Python 3",
   "language": "python",
   "name": "python3"
  },
  "language_info": {
   "codemirror_mode": {
    "name": "ipython",
    "version": 3
   },
   "file_extension": ".py",
   "mimetype": "text/x-python",
   "name": "python",
   "nbconvert_exporter": "python",
   "pygments_lexer": "ipython3",
   "version": "3.6.3"
  }
 },
 "nbformat": 4,
 "nbformat_minor": 2
}
